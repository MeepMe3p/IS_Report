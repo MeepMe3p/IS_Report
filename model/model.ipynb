{
 "cells": [
  {
   "cell_type": "code",
   "execution_count": null,
   "id": "b764252a",
   "metadata": {},
   "outputs": [],
   "source": [
    "# from tensorflow.keras.appliications import EfficientNetB0\n",
    "from tensorflow.keras.applications import EfficientNetB0\n",
    "from tensorflow.keras import layers, models\n",
    "from tensorflow.keras.metrics import AUC,Precision,Recall\n",
    "from tensorflow.keras.callbacks import ModelCheckpoint,ReduceLROnPlateau\n",
    "from tensorflow.keras.optimizers import Adam\n",
    "from tensorflow.keras.models import load_model\n",
    "import tensorflow as tf\n",
    "from tensorflow.keras.layers import RandomFlip, RandomRotation, RandomTranslation, RandomZoom\n",
    "# from tensorflow.keras.callbacks import EarlyStopping, ModelCheckpoint,Tensorboard\n",
    "\n",
    "from tensorflow.keras.mixed_precision import set_global_policy\n",
    "import numpy as np\n",
    "import os\n",
    "\n",
    "gpus = tf.config.list_physical_devices('GPU')\n",
    "\n",
    "if gpus:\n",
    "    try:\n",
    "        for gpu in gpus:\n",
    "            tf.config.experimental.set_memory_growth(gpu,True)\n",
    "    except RuntimeError as e:\n",
    "        print(e)\n"
   ]
  },
  {
   "cell_type": "code",
   "execution_count": null,
   "id": "d6895383",
   "metadata": {},
   "outputs": [],
   "source": [
    "\n",
    "os.environ['TF_GPU_ALLOCATOR'] = 'cuda_malloc_async'\n",
    "set_global_policy('mixed_float16')\n",
    "tf.keras.backend.clear_session()\n",
    "\n",
    "data_augmentation = tf.keras.Sequential([\n",
    "    RandomFlip(\"horizontal\"),\n",
    "    RandomTranslation(0.1, 0.1),\n",
    "    RandomZoom(0.1),\n",
    "    RandomRotation(0.05)\n",
    "])\n",
    "with tf.device('/GPU:0'):\n",
    "    base_model = EfficientNetB0(include_top=False, weights='imagenet')\n",
    "    base_model.trainable = True  \n",
    "\n",
    "    inputs = layers.Input(shape=(224, 224, 1))\n",
    "    x = data_augmentation(inputs)\n",
    "    x = layers.Conv2D(3, (3, 3), padding='same')(x)  \n",
    "    x = base_model(x)\n",
    "    x = layers.GlobalAveragePooling2D()(x)\n",
    "    outputs = layers.Dense(7, activation='sigmoid', dtype='float32')(x)  \n",
    "    model = models.Model(inputs, outputs)\n",
    "\n",
    "    for layer in base_model.layers[:210]:\n",
    "        layer.trainable = False\n",
    "\n",
    "    for i, layer in enumerate(base_model.layers):\n",
    "        if layer.trainable:\n",
    "            print(i, layer.name, layer.trainable)\n",
    "\n",
    "model.summary()\n"
   ]
  },
  {
   "cell_type": "code",
   "execution_count": null,
   "id": "08cdc1c0",
   "metadata": {},
   "outputs": [],
   "source": [
    "model.compile(optimizer=Adam(learning_rate=1e-5), loss = \"binary_crossentropy\", metrics = [\"binary_accuracy\"])"
   ]
  },
  {
   "cell_type": "code",
   "execution_count": null,
   "id": "371b144d",
   "metadata": {},
   "outputs": [],
   "source": [
    "X_train = np.load(\"../data/numpy/X_train.npy\")\n",
    "Y_train = np.load(\"../data/numpy/Y_train.npy\")\n",
    "\n",
    "X_val = np.load(\"../data/numpy/X_valid.npy\")\n",
    "Y_val = np.load(\"../data/numpy/Y_valid.npy\")"
   ]
  },
  {
   "cell_type": "code",
   "execution_count": null,
   "id": "4cfd04b3",
   "metadata": {},
   "outputs": [],
   "source": [
    "my_callbacks = [\n",
    "    ModelCheckpoint(\n",
    "        monitor = \"val_loss\" ,# commonly uses valloss why? cuz secret\n",
    "        verbose =1,\n",
    "        filepath = \"../checkpoint/model2_{epoch:02d}.keras\",\n",
    "        save_best_only = True,\n",
    "        save_weights_only = False\n",
    "    ),\n",
    "\n",
    "    ReduceLROnPlateau(\n",
    "        monitor = \"val_loss\",\n",
    "        factor = 0.5,\n",
    "        patience = 5,\n",
    "        verbose = 1,\n",
    "        min_lr = 1e-7\n",
    "    )\n",
    "    # EarlyStopping(\n",
    "    #     monitor = 'val_loss',\n",
    "    #     patience = 5,\n",
    "    #     restore_best_weights =True\n",
    "    # )\n",
    "    \n",
    "]\n",
    "\n",
    "train_ds = tf.data.Dataset.from_tensor_slices((X_train, Y_train)).batch(8)\n",
    "val_ds = tf.data.Dataset.from_tensor_slices((X_val, Y_val)).batch(8)\n",
    "\n"
   ]
  },
  {
   "cell_type": "code",
   "execution_count": null,
   "id": "24258c15",
   "metadata": {},
   "outputs": [],
   "source": [
    "# history = model.fit(\n",
    "#     train_ds,\n",
    "#     validation_data=val_ds,\n",
    "#     # initial_epoch = 31,\n",
    "#     epochs=25,\n",
    "#     # batch_size = 8,\n",
    "#     verbose = 1,\n",
    "#     callbacks = my_callbacks\n",
    "# )"
   ]
  },
  {
   "cell_type": "code",
   "execution_count": null,
   "id": "6290c353",
   "metadata": {},
   "outputs": [],
   "source": [
    "# model = models.load_model(\"../checkpoint/model2_04.keras\")\n",
    "\n",
    "\n",
    "os.environ['TF_GPU_ALLOCATOR'] = 'cuda_malloc_async'\n",
    "set_global_policy('mixed_float16')\n",
    "tf.keras.backend.clear_session()\n",
    "\n",
    "data_augmentation = tf.keras.Sequential([\n",
    "    RandomFlip(\"horizontal\"),\n",
    "    RandomTranslation(0.1, 0.1),\n",
    "    RandomZoom(0.1),\n",
    "    RandomRotation(0.05)\n",
    "])\n",
    "with tf.device('/GPU:0'):\n",
    "    base_model = EfficientNetB0(include_top=False, weights='imagenet')\n",
    "    base_model.trainable = True  \n",
    "\n",
    "    inputs = layers.Input(shape=(224, 224, 1))\n",
    "    x = data_augmentation(inputs)\n",
    "    x = layers.Conv2D(3, (3, 3), padding='same')(x)  \n",
    "    x = base_model(x)\n",
    "    x = layers.GlobalAveragePooling2D()(x)\n",
    "    outputs = layers.Dense(7, activation='sigmoid', dtype='float32')(x)  \n",
    "    model = models.Model(inputs, outputs)\n",
    "\n",
    "    for layer in base_model.layers[:119]:\n",
    "        layer.trainable = False\n",
    "\n",
    "    for i, layer in enumerate(base_model.layers):\n",
    "        if layer.trainable:\n",
    "            print(i, layer.name, layer.trainable)\n",
    "\n",
    "model.summary()\n",
    "\n"
   ]
  },
  {
   "cell_type": "code",
   "execution_count": null,
   "id": "432c53ab",
   "metadata": {},
   "outputs": [],
   "source": [
    "history = model.fit(\n",
    "    train_ds,\n",
    "    validation_data=val_ds,\n",
    "    # initial_epoch = 31,\n",
    "    epochs=25,\n",
    "    # batch_size = 8,\n",
    "    verbose = 1,\n",
    "    callbacks = my_callbacks\n",
    ")"
   ]
  },
  {
   "cell_type": "code",
   "execution_count": null,
   "id": "8309fa18",
   "metadata": {},
   "outputs": [],
   "source": [
    "model.save(\"../checkpoint/saved2_model.keras\")"
   ]
  },
  {
   "cell_type": "code",
   "execution_count": null,
   "id": "4fffc002",
   "metadata": {},
   "outputs": [],
   "source": [
    "import matplotlib.pyplot as plt\n",
    "\n",
    "plt.plot(history.history['binary_accuracy'], label='train_accuracy')\n",
    "plt.plot(history.history['val_binary_accuracy'], label='val_accuracy')\n",
    "plt.xlabel('Epoch')\n",
    "plt.ylabel('Accuracy')\n",
    "plt.legend()\n",
    "plt.show()\n",
    "\n",
    "plt.plot(history.history['loss'], label='train_loss')\n",
    "plt.plot(history.history['val_loss'], label='val_loss')\n",
    "plt.xlabel('Epoch')\n",
    "plt.ylabel('Loss')\n",
    "plt.legend()\n",
    "plt.show()"
   ]
  },
  {
   "cell_type": "code",
   "execution_count": null,
   "id": "e9cf7e52",
   "metadata": {},
   "outputs": [],
   "source": [
    "model = models.load_model(\"../checkpoint/model2_23.keras\")"
   ]
  },
  {
   "cell_type": "code",
   "execution_count": null,
   "id": "d6b17ff2",
   "metadata": {},
   "outputs": [],
   "source": [
    "model.summary()\n",
    "print(model.layers[3].summary())"
   ]
  },
  {
   "cell_type": "code",
   "execution_count": null,
   "id": "435bac10",
   "metadata": {},
   "outputs": [],
   "source": [
    "# https://keras.io/examples/vision/grad_cam/\n",
    "import cv2\n",
    "import matplotlib.pyplot as plt\n",
    "\n",
    "img_size = (224,224)\n",
    "last_conv_layer_name = \"top_conv\"\n",
    "img = cv2.imread(\"../data/tests/00030786_003.png\")\n",
    "img = cv2.cvtColor(img, cv2.COLOR_BGR2GRAY)\n",
    "\n",
    "plt.imshow(img)\n",
    "plt.show()\n"
   ]
  },
  {
   "cell_type": "code",
   "execution_count": null,
   "id": "7e4dbf51",
   "metadata": {},
   "outputs": [],
   "source": []
  },
  {
   "cell_type": "code",
   "execution_count": null,
   "id": "e445a47f",
   "metadata": {},
   "outputs": [],
   "source": []
  },
  {
   "cell_type": "code",
   "execution_count": null,
   "id": "5ee9827f",
   "metadata": {},
   "outputs": [],
   "source": []
  },
  {
   "cell_type": "code",
   "execution_count": null,
   "id": "123bfa09",
   "metadata": {},
   "outputs": [],
   "source": []
  },
  {
   "cell_type": "code",
   "execution_count": null,
   "id": "6db881b2",
   "metadata": {},
   "outputs": [],
   "source": [
    "for layer in model.layers:\n",
    "    print(layer.name)"
   ]
  }
 ],
 "metadata": {
  "kernelspec": {
   "display_name": "tf217",
   "language": "python",
   "name": "python3"
  },
  "language_info": {
   "codemirror_mode": {
    "name": "ipython",
    "version": 3
   },
   "file_extension": ".py",
   "mimetype": "text/x-python",
   "name": "python",
   "nbconvert_exporter": "python",
   "pygments_lexer": "ipython3",
   "version": "3.12.3"
  }
 },
 "nbformat": 4,
 "nbformat_minor": 5
}
