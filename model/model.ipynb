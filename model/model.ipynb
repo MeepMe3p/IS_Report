{
 "cells": [
  {
   "cell_type": "code",
   "execution_count": 1,
   "id": "b764252a",
   "metadata": {},
   "outputs": [
    {
     "name": "stderr",
     "output_type": "stream",
     "text": [
      "2025-05-05 16:53:56.419001: I tensorflow/core/util/port.cc:153] oneDNN custom operations are on. You may see slightly different numerical results due to floating-point round-off errors from different computation orders. To turn them off, set the environment variable `TF_ENABLE_ONEDNN_OPTS=0`.\n",
      "2025-05-05 16:53:56.705761: E external/local_xla/xla/stream_executor/cuda/cuda_fft.cc:477] Unable to register cuFFT factory: Attempting to register factory for plugin cuFFT when one has already been registered\n",
      "WARNING: All log messages before absl::InitializeLog() is called are written to STDERR\n",
      "E0000 00:00:1746435236.910562    1128 cuda_dnn.cc:8310] Unable to register cuDNN factory: Attempting to register factory for plugin cuDNN when one has already been registered\n",
      "E0000 00:00:1746435236.956152    1128 cuda_blas.cc:1418] Unable to register cuBLAS factory: Attempting to register factory for plugin cuBLAS when one has already been registered\n",
      "2025-05-05 16:53:57.229331: I tensorflow/core/platform/cpu_feature_guard.cc:210] This TensorFlow binary is optimized to use available CPU instructions in performance-critical operations.\n",
      "To enable the following instructions: AVX2 AVX_VNNI FMA, in other operations, rebuild TensorFlow with the appropriate compiler flags.\n"
     ]
    }
   ],
   "source": [
    "# from tensorflow.keras.appliications import EfficientNetB0\n",
    "from tensorflow.keras.applications import EfficientNetB0\n",
    "from tensorflow.keras import layers, models\n",
    "from tensorflow.keras.metrics import AUC,Precision,Recall\n",
    "from tensorflow.keras.callbacks import ModelCheckpoint,ReduceLROnPlateau\n",
    "from tensorflow.keras.optimizers import Adam\n",
    "from tensorflow.keras.models import load_model\n",
    "import tensorflow as tf\n",
    "from tensorflow.keras.layers import RandomFlip, RandomRotation, RandomTranslation, RandomZoom\n",
    "# from tensorflow.keras.callbacks import EarlyStopping, ModelCheckpoint,Tensorboard\n",
    "\n",
    "from tensorflow.keras.mixed_precision import set_global_policy\n",
    "import numpy as np\n",
    "import os\n",
    "\n",
    "gpus = tf.config.list_physical_devices('GPU')\n",
    "\n",
    "if gpus:\n",
    "    try:\n",
    "        for gpu in gpus:\n",
    "            tf.config.experimental.set_memory_growth(gpu,True)\n",
    "    except RuntimeError as e:\n",
    "        print(e)\n"
   ]
  },
  {
   "cell_type": "code",
   "execution_count": 2,
   "id": "d6895383",
   "metadata": {},
   "outputs": [
    {
     "name": "stderr",
     "output_type": "stream",
     "text": [
      "I0000 00:00:1746435262.225525    1128 gpu_process_state.cc:201] Using CUDA malloc Async allocator for GPU: 0\n",
      "I0000 00:00:1746435262.233321    1128 gpu_device.cc:2022] Created device /job:localhost/replica:0/task:0/device:GPU:0 with 1767 MB memory:  -> device: 0, name: NVIDIA GeForce RTX 2050, pci bus id: 0000:01:00.0, compute capability: 8.6\n"
     ]
    },
    {
     "name": "stdout",
     "output_type": "stream",
     "text": [
      "210 block6d_dwconv True\n",
      "211 block6d_bn True\n",
      "212 block6d_activation True\n",
      "213 block6d_se_squeeze True\n",
      "214 block6d_se_reshape True\n",
      "215 block6d_se_reduce True\n",
      "216 block6d_se_expand True\n",
      "217 block6d_se_excite True\n",
      "218 block6d_project_conv True\n",
      "219 block6d_project_bn True\n",
      "220 block6d_drop True\n",
      "221 block6d_add True\n",
      "222 block7a_expand_conv True\n",
      "223 block7a_expand_bn True\n",
      "224 block7a_expand_activation True\n",
      "225 block7a_dwconv True\n",
      "226 block7a_bn True\n",
      "227 block7a_activation True\n",
      "228 block7a_se_squeeze True\n",
      "229 block7a_se_reshape True\n",
      "230 block7a_se_reduce True\n",
      "231 block7a_se_expand True\n",
      "232 block7a_se_excite True\n",
      "233 block7a_project_conv True\n",
      "234 block7a_project_bn True\n",
      "235 top_conv True\n",
      "236 top_bn True\n",
      "237 top_activation True\n"
     ]
    },
    {
     "data": {
      "text/html": [
       "<pre style=\"white-space:pre;overflow-x:auto;line-height:normal;font-family:Menlo,'DejaVu Sans Mono',consolas,'Courier New',monospace\"><span style=\"font-weight: bold\">Model: \"functional_1\"</span>\n",
       "</pre>\n"
      ],
      "text/plain": [
       "\u001b[1mModel: \"functional_1\"\u001b[0m\n"
      ]
     },
     "metadata": {},
     "output_type": "display_data"
    },
    {
     "data": {
      "text/html": [
       "<pre style=\"white-space:pre;overflow-x:auto;line-height:normal;font-family:Menlo,'DejaVu Sans Mono',consolas,'Courier New',monospace\">┏━━━━━━━━━━━━━━━━━━━━━━━━━━━━━━━━━┳━━━━━━━━━━━━━━━━━━━━━━━━┳━━━━━━━━━━━━━━━┓\n",
       "┃<span style=\"font-weight: bold\"> Layer (type)                    </span>┃<span style=\"font-weight: bold\"> Output Shape           </span>┃<span style=\"font-weight: bold\">       Param # </span>┃\n",
       "┡━━━━━━━━━━━━━━━━━━━━━━━━━━━━━━━━━╇━━━━━━━━━━━━━━━━━━━━━━━━╇━━━━━━━━━━━━━━━┩\n",
       "│ input_layer_1 (<span style=\"color: #0087ff; text-decoration-color: #0087ff\">InputLayer</span>)      │ (<span style=\"color: #00d7ff; text-decoration-color: #00d7ff\">None</span>, <span style=\"color: #00af00; text-decoration-color: #00af00\">224</span>, <span style=\"color: #00af00; text-decoration-color: #00af00\">224</span>, <span style=\"color: #00af00; text-decoration-color: #00af00\">1</span>)    │             <span style=\"color: #00af00; text-decoration-color: #00af00\">0</span> │\n",
       "├─────────────────────────────────┼────────────────────────┼───────────────┤\n",
       "│ sequential (<span style=\"color: #0087ff; text-decoration-color: #0087ff\">Sequential</span>)         │ (<span style=\"color: #00d7ff; text-decoration-color: #00d7ff\">None</span>, <span style=\"color: #00af00; text-decoration-color: #00af00\">224</span>, <span style=\"color: #00af00; text-decoration-color: #00af00\">224</span>, <span style=\"color: #00af00; text-decoration-color: #00af00\">1</span>)    │             <span style=\"color: #00af00; text-decoration-color: #00af00\">0</span> │\n",
       "├─────────────────────────────────┼────────────────────────┼───────────────┤\n",
       "│ conv2d (<span style=\"color: #0087ff; text-decoration-color: #0087ff\">Conv2D</span>)                 │ (<span style=\"color: #00d7ff; text-decoration-color: #00d7ff\">None</span>, <span style=\"color: #00af00; text-decoration-color: #00af00\">224</span>, <span style=\"color: #00af00; text-decoration-color: #00af00\">224</span>, <span style=\"color: #00af00; text-decoration-color: #00af00\">3</span>)    │            <span style=\"color: #00af00; text-decoration-color: #00af00\">30</span> │\n",
       "├─────────────────────────────────┼────────────────────────┼───────────────┤\n",
       "│ efficientnetb0 (<span style=\"color: #0087ff; text-decoration-color: #0087ff\">Functional</span>)     │ (<span style=\"color: #00d7ff; text-decoration-color: #00d7ff\">None</span>, <span style=\"color: #00af00; text-decoration-color: #00af00\">7</span>, <span style=\"color: #00af00; text-decoration-color: #00af00\">7</span>, <span style=\"color: #00af00; text-decoration-color: #00af00\">1280</span>)     │     <span style=\"color: #00af00; text-decoration-color: #00af00\">4,049,571</span> │\n",
       "├─────────────────────────────────┼────────────────────────┼───────────────┤\n",
       "│ global_average_pooling2d        │ (<span style=\"color: #00d7ff; text-decoration-color: #00d7ff\">None</span>, <span style=\"color: #00af00; text-decoration-color: #00af00\">1280</span>)           │             <span style=\"color: #00af00; text-decoration-color: #00af00\">0</span> │\n",
       "│ (<span style=\"color: #0087ff; text-decoration-color: #0087ff\">GlobalAveragePooling2D</span>)        │                        │               │\n",
       "├─────────────────────────────────┼────────────────────────┼───────────────┤\n",
       "│ dense (<span style=\"color: #0087ff; text-decoration-color: #0087ff\">Dense</span>)                   │ (<span style=\"color: #00d7ff; text-decoration-color: #00d7ff\">None</span>, <span style=\"color: #00af00; text-decoration-color: #00af00\">7</span>)              │         <span style=\"color: #00af00; text-decoration-color: #00af00\">8,967</span> │\n",
       "└─────────────────────────────────┴────────────────────────┴───────────────┘\n",
       "</pre>\n"
      ],
      "text/plain": [
       "┏━━━━━━━━━━━━━━━━━━━━━━━━━━━━━━━━━┳━━━━━━━━━━━━━━━━━━━━━━━━┳━━━━━━━━━━━━━━━┓\n",
       "┃\u001b[1m \u001b[0m\u001b[1mLayer (type)                   \u001b[0m\u001b[1m \u001b[0m┃\u001b[1m \u001b[0m\u001b[1mOutput Shape          \u001b[0m\u001b[1m \u001b[0m┃\u001b[1m \u001b[0m\u001b[1m      Param #\u001b[0m\u001b[1m \u001b[0m┃\n",
       "┡━━━━━━━━━━━━━━━━━━━━━━━━━━━━━━━━━╇━━━━━━━━━━━━━━━━━━━━━━━━╇━━━━━━━━━━━━━━━┩\n",
       "│ input_layer_1 (\u001b[38;5;33mInputLayer\u001b[0m)      │ (\u001b[38;5;45mNone\u001b[0m, \u001b[38;5;34m224\u001b[0m, \u001b[38;5;34m224\u001b[0m, \u001b[38;5;34m1\u001b[0m)    │             \u001b[38;5;34m0\u001b[0m │\n",
       "├─────────────────────────────────┼────────────────────────┼───────────────┤\n",
       "│ sequential (\u001b[38;5;33mSequential\u001b[0m)         │ (\u001b[38;5;45mNone\u001b[0m, \u001b[38;5;34m224\u001b[0m, \u001b[38;5;34m224\u001b[0m, \u001b[38;5;34m1\u001b[0m)    │             \u001b[38;5;34m0\u001b[0m │\n",
       "├─────────────────────────────────┼────────────────────────┼───────────────┤\n",
       "│ conv2d (\u001b[38;5;33mConv2D\u001b[0m)                 │ (\u001b[38;5;45mNone\u001b[0m, \u001b[38;5;34m224\u001b[0m, \u001b[38;5;34m224\u001b[0m, \u001b[38;5;34m3\u001b[0m)    │            \u001b[38;5;34m30\u001b[0m │\n",
       "├─────────────────────────────────┼────────────────────────┼───────────────┤\n",
       "│ efficientnetb0 (\u001b[38;5;33mFunctional\u001b[0m)     │ (\u001b[38;5;45mNone\u001b[0m, \u001b[38;5;34m7\u001b[0m, \u001b[38;5;34m7\u001b[0m, \u001b[38;5;34m1280\u001b[0m)     │     \u001b[38;5;34m4,049,571\u001b[0m │\n",
       "├─────────────────────────────────┼────────────────────────┼───────────────┤\n",
       "│ global_average_pooling2d        │ (\u001b[38;5;45mNone\u001b[0m, \u001b[38;5;34m1280\u001b[0m)           │             \u001b[38;5;34m0\u001b[0m │\n",
       "│ (\u001b[38;5;33mGlobalAveragePooling2D\u001b[0m)        │                        │               │\n",
       "├─────────────────────────────────┼────────────────────────┼───────────────┤\n",
       "│ dense (\u001b[38;5;33mDense\u001b[0m)                   │ (\u001b[38;5;45mNone\u001b[0m, \u001b[38;5;34m7\u001b[0m)              │         \u001b[38;5;34m8,967\u001b[0m │\n",
       "└─────────────────────────────────┴────────────────────────┴───────────────┘\n"
      ]
     },
     "metadata": {},
     "output_type": "display_data"
    },
    {
     "data": {
      "text/html": [
       "<pre style=\"white-space:pre;overflow-x:auto;line-height:normal;font-family:Menlo,'DejaVu Sans Mono',consolas,'Courier New',monospace\"><span style=\"font-weight: bold\"> Total params: </span><span style=\"color: #00af00; text-decoration-color: #00af00\">4,058,568</span> (15.48 MB)\n",
       "</pre>\n"
      ],
      "text/plain": [
       "\u001b[1m Total params: \u001b[0m\u001b[38;5;34m4,058,568\u001b[0m (15.48 MB)\n"
      ]
     },
     "metadata": {},
     "output_type": "display_data"
    },
    {
     "data": {
      "text/html": [
       "<pre style=\"white-space:pre;overflow-x:auto;line-height:normal;font-family:Menlo,'DejaVu Sans Mono',consolas,'Courier New',monospace\"><span style=\"font-weight: bold\"> Trainable params: </span><span style=\"color: #00af00; text-decoration-color: #00af00\">1,502,853</span> (5.73 MB)\n",
       "</pre>\n"
      ],
      "text/plain": [
       "\u001b[1m Trainable params: \u001b[0m\u001b[38;5;34m1,502,853\u001b[0m (5.73 MB)\n"
      ]
     },
     "metadata": {},
     "output_type": "display_data"
    },
    {
     "data": {
      "text/html": [
       "<pre style=\"white-space:pre;overflow-x:auto;line-height:normal;font-family:Menlo,'DejaVu Sans Mono',consolas,'Courier New',monospace\"><span style=\"font-weight: bold\"> Non-trainable params: </span><span style=\"color: #00af00; text-decoration-color: #00af00\">2,555,715</span> (9.75 MB)\n",
       "</pre>\n"
      ],
      "text/plain": [
       "\u001b[1m Non-trainable params: \u001b[0m\u001b[38;5;34m2,555,715\u001b[0m (9.75 MB)\n"
      ]
     },
     "metadata": {},
     "output_type": "display_data"
    }
   ],
   "source": [
    "\n",
    "os.environ['TF_GPU_ALLOCATOR'] = 'cuda_malloc_async'\n",
    "set_global_policy('mixed_float16')\n",
    "tf.keras.backend.clear_session()\n",
    "\n",
    "data_augmentation = tf.keras.Sequential([\n",
    "    RandomFlip(\"horizontal\"),\n",
    "    RandomTranslation(0.1, 0.1),\n",
    "    RandomZoom(0.1),\n",
    "    RandomRotation(0.05)\n",
    "])\n",
    "with tf.device('/GPU:0'):\n",
    "    base_model = EfficientNetB0(include_top=False, weights='imagenet')\n",
    "    base_model.trainable = True  \n",
    "\n",
    "    inputs = layers.Input(shape=(224, 224, 1))\n",
    "    x = data_augmentation(inputs)\n",
    "    x = layers.Conv2D(3, (3, 3), padding='same')(x)  \n",
    "    x = base_model(x)\n",
    "    x = layers.GlobalAveragePooling2D()(x)\n",
    "    outputs = layers.Dense(7, activation='sigmoid', dtype='float32')(x)  \n",
    "    model = models.Model(inputs, outputs)\n",
    "\n",
    "    for layer in base_model.layers[:210]:\n",
    "        layer.trainable = False\n",
    "\n",
    "    for i, layer in enumerate(base_model.layers):\n",
    "        if layer.trainable:\n",
    "            print(i, layer.name, layer.trainable)\n",
    "\n",
    "model.summary()\n"
   ]
  },
  {
   "cell_type": "code",
   "execution_count": null,
   "id": "08cdc1c0",
   "metadata": {},
   "outputs": [],
   "source": [
    "# model.compile(optimizer=Adam(learning_rate=1e-5), loss = \"binary_crossentropy\", metrics = [\"binary_accuracy\"])"
   ]
  },
  {
   "cell_type": "code",
   "execution_count": 3,
   "id": "371b144d",
   "metadata": {},
   "outputs": [],
   "source": [
    "X_train = np.load(\"../data/numpy/X_train.npy\")\n",
    "Y_train = np.load(\"../data/numpy/Y_train.npy\")\n",
    "\n",
    "X_val = np.load(\"../data/numpy/X_valid.npy\")\n",
    "Y_val = np.load(\"../data/numpy/Y_valid.npy\")"
   ]
  },
  {
   "cell_type": "code",
   "execution_count": null,
   "id": "4cfd04b3",
   "metadata": {},
   "outputs": [
    {
     "ename": "SyntaxError",
     "evalue": "invalid syntax. Perhaps you forgot a comma? (2450522661.py, line 10)",
     "output_type": "error",
     "traceback": [
      "\u001b[0;36m  Cell \u001b[0;32mIn[19], line 10\u001b[0;36m\u001b[0m\n\u001b[0;31m    ReduceLROnPlateau(\u001b[0m\n\u001b[0m    ^\u001b[0m\n\u001b[0;31mSyntaxError\u001b[0m\u001b[0;31m:\u001b[0m invalid syntax. Perhaps you forgot a comma?\n"
     ]
    }
   ],
   "source": [
    "my_callbacks = [\n",
    "    ModelCheckpoint(\n",
    "        monitor = \"val_loss\" ,# commonly uses valloss why? cuz secret\n",
    "        verbose =1,\n",
    "        filepath = \"../checkpoint/model3_{epoch:02d}.keras\",\n",
    "        save_best_only = True,\n",
    "        save_weights_only = False\n",
    "    ),\n",
    "\n",
    "    ReduceLROnPlateau(\n",
    "        monitor = \"val_loss\",\n",
    "        factor = 0.5,\n",
    "        patience = 5,\n",
    "        verbose = 1,\n",
    "        min_lr = 1e-7\n",
    "    ),\n",
    "    EarlyStopping(\n",
    "        monitor = 'val_loss',\n",
    "        patience = 5,\n",
    "        restore_best_weights =True\n",
    "    )\n",
    "    \n",
    "]\n",
    "\n",
    "# train_ds = tf.data.Dataset.from_tensor_slices((X_train, Y_train)).batch(4)\n",
    "# val_ds = tf.data.Dataset.from_tensor_slices((X_val, Y_val)).batch(4)\n",
    "\n"
   ]
  },
  {
   "cell_type": "code",
   "execution_count": null,
   "id": "24258c15",
   "metadata": {},
   "outputs": [],
   "source": [
    "# history = model.fit(\n",
    "#     train_ds,\n",
    "#     validation_data=val_ds,\n",
    "#     # initial_epoch = 31,\n",
    "#     epochs=25,\n",
    "#     # batch_size = 8,\n",
    "#     verbose = 1,\n",
    "#     callbacks = my_callbacks\n",
    "# )"
   ]
  },
  {
   "cell_type": "code",
   "execution_count": null,
   "id": "6290c353",
   "metadata": {},
   "outputs": [],
   "source": [
    "\n",
    "# # Enable async GPU memory allocation and mixed precision\n",
    "# os.environ['TF_GPU_ALLOCATOR'] = 'cuda_malloc_async'\n",
    "# set_global_policy('mixed_float16')\n",
    "# tf.keras.backend.clear_session()\n",
    "\n",
    "# # Data augmentation\n",
    "# data_augmentation = tf.keras.Sequential([\n",
    "#     RandomFlip(\"horizontal\"),\n",
    "#     RandomTranslation(0.1, 0.1),\n",
    "#     RandomZoom(0.1),\n",
    "#     RandomRotation(0.05)\n",
    "# ])\n",
    "\n",
    "# with tf.device('/GPU:0'):\n",
    "#     inputs = layers.Input(shape=(224, 224, 3))\n",
    "#     x = data_augmentation(inputs)\n",
    "\n",
    "#     base_model = EfficientNetB0(include_top=False, weights='imagenet')\n",
    "#     base_model.trainable = True\n",
    "\n",
    "#     x = base_model(x)\n",
    "#     x = layers.GlobalAveragePooling2D()(x)\n",
    "#     outputs = layers.Dense(7, activation='sigmoid', dtype='float32')(x)  \n",
    "\n",
    "#     model = models.Model(inputs, outputs)\n",
    "\n",
    "#     for layer in base_model.layers[:119]:\n",
    "#         layer.trainable = False\n",
    "\n",
    "#     for i, layer in enumerate(base_model.layers):\n",
    "#         if layer.trainable:\n",
    "#             print(i, layer.name, layer.trainable)\n",
    "\n",
    "# model.summary()\n"
   ]
  },
  {
   "cell_type": "code",
   "execution_count": null,
   "id": "432c53ab",
   "metadata": {},
   "outputs": [],
   "source": [
    "# history = model.fit(\n",
    "#     train_ds,\n",
    "#     validation_data=val_ds,\n",
    "#     # initial_epoch = 31,\n",
    "#     epochs=25,\n",
    "#     # batch_size = 8,\n",
    "#     verbose = 1,\n",
    "#     callbacks = my_callbacks\n",
    "# )"
   ]
  },
  {
   "cell_type": "code",
   "execution_count": null,
   "id": "8309fa18",
   "metadata": {},
   "outputs": [],
   "source": [
    "# model.save(\"../checkpoint/saved2_model.keras\")"
   ]
  },
  {
   "cell_type": "code",
   "execution_count": null,
   "id": "4fffc002",
   "metadata": {},
   "outputs": [],
   "source": [
    "# import matplotlib.pyplot as plt\n",
    "\n",
    "# plt.plot(history.history['binary_accuracy'], label='train_accuracy')\n",
    "# plt.plot(history.history['val_binary_accuracy'], label='val_accuracy')\n",
    "# plt.xlabel('Epoch')\n",
    "# plt.ylabel('Accuracy')\n",
    "# plt.legend()\n",
    "# plt.show()\n",
    "\n",
    "# plt.plot(history.history['loss'], label='train_loss')\n",
    "# plt.plot(history.history['val_loss'], label='val_loss')\n",
    "# plt.xlabel('Epoch')\n",
    "# plt.ylabel('Loss')\n",
    "# plt.legend()\n",
    "# plt.show()"
   ]
  },
  {
   "cell_type": "code",
   "execution_count": null,
   "id": "e9cf7e52",
   "metadata": {},
   "outputs": [],
   "source": [
    "# model = models.load_model(\"../checkpoint/model2_23.keras\")"
   ]
  },
  {
   "cell_type": "code",
   "execution_count": null,
   "id": "d6b17ff2",
   "metadata": {},
   "outputs": [],
   "source": [
    "# model.summary()\n",
    "# print(model.layers[3].summary())"
   ]
  },
  {
   "cell_type": "code",
   "execution_count": null,
   "id": "435bac10",
   "metadata": {},
   "outputs": [],
   "source": [
    "# # https://keras.io/examples/vision/grad_cam/\n",
    "# import cv2\n",
    "# import matplotlib.pyplot as plt\n",
    "\n",
    "# img_size = (224,224)\n",
    "# last_conv_layer_name = \"top_conv\"\n",
    "# img = cv2.imread(\"../data/tests/00030786_003.png\")\n",
    "# img = cv2.cvtColor(img, cv2.COLOR_BGR2GRAY)\n",
    "\n",
    "# plt.imshow(img)\n",
    "# plt.show()\n"
   ]
  },
  {
   "cell_type": "code",
   "execution_count": 21,
   "id": "7e4dbf51",
   "metadata": {},
   "outputs": [],
   "source": [
    "\n",
    "model = models.load_model(\"../checkpoint/model3_25.keras\")\n",
    "\n",
    "model.compile(optimizer=Adam(learning_rate=1e-5), loss = \"binary_crossentropy\", metrics = [\"binary_accuracy\"])"
   ]
  },
  {
   "cell_type": "code",
   "execution_count": 6,
   "id": "cfe1f077",
   "metadata": {},
   "outputs": [
    {
     "data": {
      "text/html": [
       "<pre style=\"white-space:pre;overflow-x:auto;line-height:normal;font-family:Menlo,'DejaVu Sans Mono',consolas,'Courier New',monospace\"><span style=\"font-weight: bold\">Model: \"functional_1\"</span>\n",
       "</pre>\n"
      ],
      "text/plain": [
       "\u001b[1mModel: \"functional_1\"\u001b[0m\n"
      ]
     },
     "metadata": {},
     "output_type": "display_data"
    },
    {
     "data": {
      "text/html": [
       "<pre style=\"white-space:pre;overflow-x:auto;line-height:normal;font-family:Menlo,'DejaVu Sans Mono',consolas,'Courier New',monospace\">┏━━━━━━━━━━━━━━━━━━━━━━━━━━━━━━━━━┳━━━━━━━━━━━━━━━━━━━━━━━━┳━━━━━━━━━━━━━━━┓\n",
       "┃<span style=\"font-weight: bold\"> Layer (type)                    </span>┃<span style=\"font-weight: bold\"> Output Shape           </span>┃<span style=\"font-weight: bold\">       Param # </span>┃\n",
       "┡━━━━━━━━━━━━━━━━━━━━━━━━━━━━━━━━━╇━━━━━━━━━━━━━━━━━━━━━━━━╇━━━━━━━━━━━━━━━┩\n",
       "│ input_layer_1 (<span style=\"color: #0087ff; text-decoration-color: #0087ff\">InputLayer</span>)      │ (<span style=\"color: #00d7ff; text-decoration-color: #00d7ff\">None</span>, <span style=\"color: #00af00; text-decoration-color: #00af00\">224</span>, <span style=\"color: #00af00; text-decoration-color: #00af00\">224</span>, <span style=\"color: #00af00; text-decoration-color: #00af00\">1</span>)    │             <span style=\"color: #00af00; text-decoration-color: #00af00\">0</span> │\n",
       "├─────────────────────────────────┼────────────────────────┼───────────────┤\n",
       "│ sequential (<span style=\"color: #0087ff; text-decoration-color: #0087ff\">Sequential</span>)         │ (<span style=\"color: #00d7ff; text-decoration-color: #00d7ff\">None</span>, <span style=\"color: #00af00; text-decoration-color: #00af00\">224</span>, <span style=\"color: #00af00; text-decoration-color: #00af00\">224</span>, <span style=\"color: #00af00; text-decoration-color: #00af00\">1</span>)    │             <span style=\"color: #00af00; text-decoration-color: #00af00\">0</span> │\n",
       "├─────────────────────────────────┼────────────────────────┼───────────────┤\n",
       "│ conv2d (<span style=\"color: #0087ff; text-decoration-color: #0087ff\">Conv2D</span>)                 │ (<span style=\"color: #00d7ff; text-decoration-color: #00d7ff\">None</span>, <span style=\"color: #00af00; text-decoration-color: #00af00\">224</span>, <span style=\"color: #00af00; text-decoration-color: #00af00\">224</span>, <span style=\"color: #00af00; text-decoration-color: #00af00\">3</span>)    │            <span style=\"color: #00af00; text-decoration-color: #00af00\">30</span> │\n",
       "├─────────────────────────────────┼────────────────────────┼───────────────┤\n",
       "│ efficientnetb0 (<span style=\"color: #0087ff; text-decoration-color: #0087ff\">Functional</span>)     │ (<span style=\"color: #00d7ff; text-decoration-color: #00d7ff\">None</span>, <span style=\"color: #00af00; text-decoration-color: #00af00\">7</span>, <span style=\"color: #00af00; text-decoration-color: #00af00\">7</span>, <span style=\"color: #00af00; text-decoration-color: #00af00\">1280</span>)     │     <span style=\"color: #00af00; text-decoration-color: #00af00\">4,049,571</span> │\n",
       "├─────────────────────────────────┼────────────────────────┼───────────────┤\n",
       "│ global_average_pooling2d        │ (<span style=\"color: #00d7ff; text-decoration-color: #00d7ff\">None</span>, <span style=\"color: #00af00; text-decoration-color: #00af00\">1280</span>)           │             <span style=\"color: #00af00; text-decoration-color: #00af00\">0</span> │\n",
       "│ (<span style=\"color: #0087ff; text-decoration-color: #0087ff\">GlobalAveragePooling2D</span>)        │                        │               │\n",
       "├─────────────────────────────────┼────────────────────────┼───────────────┤\n",
       "│ dense (<span style=\"color: #0087ff; text-decoration-color: #0087ff\">Dense</span>)                   │ (<span style=\"color: #00d7ff; text-decoration-color: #00d7ff\">None</span>, <span style=\"color: #00af00; text-decoration-color: #00af00\">7</span>)              │         <span style=\"color: #00af00; text-decoration-color: #00af00\">8,967</span> │\n",
       "└─────────────────────────────────┴────────────────────────┴───────────────┘\n",
       "</pre>\n"
      ],
      "text/plain": [
       "┏━━━━━━━━━━━━━━━━━━━━━━━━━━━━━━━━━┳━━━━━━━━━━━━━━━━━━━━━━━━┳━━━━━━━━━━━━━━━┓\n",
       "┃\u001b[1m \u001b[0m\u001b[1mLayer (type)                   \u001b[0m\u001b[1m \u001b[0m┃\u001b[1m \u001b[0m\u001b[1mOutput Shape          \u001b[0m\u001b[1m \u001b[0m┃\u001b[1m \u001b[0m\u001b[1m      Param #\u001b[0m\u001b[1m \u001b[0m┃\n",
       "┡━━━━━━━━━━━━━━━━━━━━━━━━━━━━━━━━━╇━━━━━━━━━━━━━━━━━━━━━━━━╇━━━━━━━━━━━━━━━┩\n",
       "│ input_layer_1 (\u001b[38;5;33mInputLayer\u001b[0m)      │ (\u001b[38;5;45mNone\u001b[0m, \u001b[38;5;34m224\u001b[0m, \u001b[38;5;34m224\u001b[0m, \u001b[38;5;34m1\u001b[0m)    │             \u001b[38;5;34m0\u001b[0m │\n",
       "├─────────────────────────────────┼────────────────────────┼───────────────┤\n",
       "│ sequential (\u001b[38;5;33mSequential\u001b[0m)         │ (\u001b[38;5;45mNone\u001b[0m, \u001b[38;5;34m224\u001b[0m, \u001b[38;5;34m224\u001b[0m, \u001b[38;5;34m1\u001b[0m)    │             \u001b[38;5;34m0\u001b[0m │\n",
       "├─────────────────────────────────┼────────────────────────┼───────────────┤\n",
       "│ conv2d (\u001b[38;5;33mConv2D\u001b[0m)                 │ (\u001b[38;5;45mNone\u001b[0m, \u001b[38;5;34m224\u001b[0m, \u001b[38;5;34m224\u001b[0m, \u001b[38;5;34m3\u001b[0m)    │            \u001b[38;5;34m30\u001b[0m │\n",
       "├─────────────────────────────────┼────────────────────────┼───────────────┤\n",
       "│ efficientnetb0 (\u001b[38;5;33mFunctional\u001b[0m)     │ (\u001b[38;5;45mNone\u001b[0m, \u001b[38;5;34m7\u001b[0m, \u001b[38;5;34m7\u001b[0m, \u001b[38;5;34m1280\u001b[0m)     │     \u001b[38;5;34m4,049,571\u001b[0m │\n",
       "├─────────────────────────────────┼────────────────────────┼───────────────┤\n",
       "│ global_average_pooling2d        │ (\u001b[38;5;45mNone\u001b[0m, \u001b[38;5;34m1280\u001b[0m)           │             \u001b[38;5;34m0\u001b[0m │\n",
       "│ (\u001b[38;5;33mGlobalAveragePooling2D\u001b[0m)        │                        │               │\n",
       "├─────────────────────────────────┼────────────────────────┼───────────────┤\n",
       "│ dense (\u001b[38;5;33mDense\u001b[0m)                   │ (\u001b[38;5;45mNone\u001b[0m, \u001b[38;5;34m7\u001b[0m)              │         \u001b[38;5;34m8,967\u001b[0m │\n",
       "└─────────────────────────────────┴────────────────────────┴───────────────┘\n"
      ]
     },
     "metadata": {},
     "output_type": "display_data"
    },
    {
     "data": {
      "text/html": [
       "<pre style=\"white-space:pre;overflow-x:auto;line-height:normal;font-family:Menlo,'DejaVu Sans Mono',consolas,'Courier New',monospace\"><span style=\"font-weight: bold\"> Total params: </span><span style=\"color: #00af00; text-decoration-color: #00af00\">4,058,568</span> (15.48 MB)\n",
       "</pre>\n"
      ],
      "text/plain": [
       "\u001b[1m Total params: \u001b[0m\u001b[38;5;34m4,058,568\u001b[0m (15.48 MB)\n"
      ]
     },
     "metadata": {},
     "output_type": "display_data"
    },
    {
     "data": {
      "text/html": [
       "<pre style=\"white-space:pre;overflow-x:auto;line-height:normal;font-family:Menlo,'DejaVu Sans Mono',consolas,'Courier New',monospace\"><span style=\"font-weight: bold\"> Trainable params: </span><span style=\"color: #00af00; text-decoration-color: #00af00\">3,707,885</span> (14.14 MB)\n",
       "</pre>\n"
      ],
      "text/plain": [
       "\u001b[1m Trainable params: \u001b[0m\u001b[38;5;34m3,707,885\u001b[0m (14.14 MB)\n"
      ]
     },
     "metadata": {},
     "output_type": "display_data"
    },
    {
     "data": {
      "text/html": [
       "<pre style=\"white-space:pre;overflow-x:auto;line-height:normal;font-family:Menlo,'DejaVu Sans Mono',consolas,'Courier New',monospace\"><span style=\"font-weight: bold\"> Non-trainable params: </span><span style=\"color: #00af00; text-decoration-color: #00af00\">350,683</span> (1.34 MB)\n",
       "</pre>\n"
      ],
      "text/plain": [
       "\u001b[1m Non-trainable params: \u001b[0m\u001b[38;5;34m350,683\u001b[0m (1.34 MB)\n"
      ]
     },
     "metadata": {},
     "output_type": "display_data"
    }
   ],
   "source": [
    "model.summary()\n",
    "\n"
   ]
  },
  {
   "cell_type": "code",
   "execution_count": null,
   "id": "a4907ec5",
   "metadata": {},
   "outputs": [],
   "source": [
    "# # model.summary()\n",
    "# my_callbacks = [\n",
    "#     ModelCheckpoint(\n",
    "#         monitor = \"val_loss\" ,# commonly uses valloss why? cuz secret\n",
    "#         verbose =1,\n",
    "#         filepath = \"../checkpoint/model3_{epoch:02d}.keras\",\n",
    "#         save_best_only = True,\n",
    "#         save_weights_only = False\n",
    "#     ),\n",
    "\n",
    "#     ReduceLROnPlateau(\n",
    "#         monitor = \"val_loss\",\n",
    "#         factor = 0.5,\n",
    "#         patience = 5,\n",
    "#         verbose = 1,\n",
    "#         min_lr = 1e-7\n",
    "#     )\n",
    "#     # EarlyStopping(\n",
    "#     #     monitor = 'val_loss',\n",
    "#     #     patience = 5,\n",
    "#     #     restore_best_weights =True\n",
    "#     # )\n",
    "    \n",
    "# ]\n",
    "\n",
    "\n",
    "# train_ds = tf.data.Dataset.from_tensor_slices((X_train, Y_train)).batch(8)\n",
    "# val_ds = tf.data.Dataset.from_tensor_slices((X_val, Y_val)).batch(8)"
   ]
  },
  {
   "cell_type": "code",
   "execution_count": 22,
   "id": "e445a47f",
   "metadata": {},
   "outputs": [
    {
     "name": "stdout",
     "output_type": "stream",
     "text": [
      "Epoch 26/50\n"
     ]
    },
    {
     "name": "stderr",
     "output_type": "stream",
     "text": [
      "E0000 00:00:1746436889.714977    1128 meta_optimizer.cc:966] layout failed: INVALID_ARGUMENT: Size of values 0 does not match size of permutation 4 @ fanin shape inStatefulPartitionedCall/functional_1_1/efficientnetb0_1/block2b_drop_1/stateless_dropout/SelectV2-2-TransposeNHWCToNCHW-LayoutOptimizer\n"
     ]
    },
    {
     "name": "stdout",
     "output_type": "stream",
     "text": [
      "\u001b[1m3148/3148\u001b[0m \u001b[32m━━━━━━━━━━━━━━━━━━━━\u001b[0m\u001b[37m\u001b[0m \u001b[1m0s\u001b[0m 135ms/step - binary_accuracy: 0.8588 - loss: 0.3320\n",
      "Epoch 26: val_loss did not improve from 0.32296\n",
      "\u001b[1m3148/3148\u001b[0m \u001b[32m━━━━━━━━━━━━━━━━━━━━\u001b[0m\u001b[37m\u001b[0m \u001b[1m455s\u001b[0m 136ms/step - binary_accuracy: 0.8588 - loss: 0.3320 - val_binary_accuracy: 0.8559 - val_loss: 0.3235 - learning_rate: 1.0000e-05\n",
      "Epoch 27/50\n",
      "\u001b[1m3148/3148\u001b[0m \u001b[32m━━━━━━━━━━━━━━━━━━━━\u001b[0m\u001b[37m\u001b[0m \u001b[1m0s\u001b[0m 151ms/step - binary_accuracy: 0.8600 - loss: 0.3306\n",
      "Epoch 27: val_loss improved from 0.32296 to 0.32280, saving model to ../checkpoint/model3_27.keras\n",
      "\u001b[1m3148/3148\u001b[0m \u001b[32m━━━━━━━━━━━━━━━━━━━━\u001b[0m\u001b[37m\u001b[0m \u001b[1m481s\u001b[0m 153ms/step - binary_accuracy: 0.8600 - loss: 0.3306 - val_binary_accuracy: 0.8584 - val_loss: 0.3228 - learning_rate: 1.0000e-05\n",
      "Epoch 28/50\n",
      "\u001b[1m3148/3148\u001b[0m \u001b[32m━━━━━━━━━━━━━━━━━━━━\u001b[0m\u001b[37m\u001b[0m \u001b[1m0s\u001b[0m 162ms/step - binary_accuracy: 0.8600 - loss: 0.3297\n",
      "Epoch 28: val_loss improved from 0.32280 to 0.31358, saving model to ../checkpoint/model3_28.keras\n",
      "\u001b[1m3148/3148\u001b[0m \u001b[32m━━━━━━━━━━━━━━━━━━━━\u001b[0m\u001b[37m\u001b[0m \u001b[1m515s\u001b[0m 163ms/step - binary_accuracy: 0.8600 - loss: 0.3297 - val_binary_accuracy: 0.8641 - val_loss: 0.3136 - learning_rate: 1.0000e-05\n",
      "Epoch 29/50\n",
      "\u001b[1m3148/3148\u001b[0m \u001b[32m━━━━━━━━━━━━━━━━━━━━\u001b[0m\u001b[37m\u001b[0m \u001b[1m0s\u001b[0m 146ms/step - binary_accuracy: 0.8601 - loss: 0.3283\n",
      "Epoch 29: val_loss did not improve from 0.31358\n",
      "\u001b[1m3148/3148\u001b[0m \u001b[32m━━━━━━━━━━━━━━━━━━━━\u001b[0m\u001b[37m\u001b[0m \u001b[1m464s\u001b[0m 147ms/step - binary_accuracy: 0.8601 - loss: 0.3283 - val_binary_accuracy: 0.8623 - val_loss: 0.3216 - learning_rate: 1.0000e-05\n",
      "Epoch 30/50\n",
      "\u001b[1m3148/3148\u001b[0m \u001b[32m━━━━━━━━━━━━━━━━━━━━\u001b[0m\u001b[37m\u001b[0m \u001b[1m0s\u001b[0m 146ms/step - binary_accuracy: 0.8601 - loss: 0.3262\n",
      "Epoch 30: val_loss did not improve from 0.31358\n",
      "\u001b[1m3148/3148\u001b[0m \u001b[32m━━━━━━━━━━━━━━━━━━━━\u001b[0m\u001b[37m\u001b[0m \u001b[1m465s\u001b[0m 148ms/step - binary_accuracy: 0.8601 - loss: 0.3262 - val_binary_accuracy: 0.8606 - val_loss: 0.3253 - learning_rate: 1.0000e-05\n",
      "Epoch 31/50\n",
      "\u001b[1m3148/3148\u001b[0m \u001b[32m━━━━━━━━━━━━━━━━━━━━\u001b[0m\u001b[37m\u001b[0m \u001b[1m0s\u001b[0m 150ms/step - binary_accuracy: 0.8601 - loss: 0.3240\n",
      "Epoch 31: val_loss did not improve from 0.31358\n",
      "\u001b[1m3148/3148\u001b[0m \u001b[32m━━━━━━━━━━━━━━━━━━━━\u001b[0m\u001b[37m\u001b[0m \u001b[1m477s\u001b[0m 152ms/step - binary_accuracy: 0.8601 - loss: 0.3240 - val_binary_accuracy: 0.8631 - val_loss: 0.3226 - learning_rate: 1.0000e-05\n",
      "Epoch 32/50\n",
      "\u001b[1m3148/3148\u001b[0m \u001b[32m━━━━━━━━━━━━━━━━━━━━\u001b[0m\u001b[37m\u001b[0m \u001b[1m0s\u001b[0m 154ms/step - binary_accuracy: 0.8612 - loss: 0.3227\n",
      "Epoch 32: val_loss did not improve from 0.31358\n",
      "\u001b[1m3148/3148\u001b[0m \u001b[32m━━━━━━━━━━━━━━━━━━━━\u001b[0m\u001b[37m\u001b[0m \u001b[1m489s\u001b[0m 155ms/step - binary_accuracy: 0.8612 - loss: 0.3227 - val_binary_accuracy: 0.8637 - val_loss: 0.3207 - learning_rate: 1.0000e-05\n",
      "Epoch 33/50\n",
      "\u001b[1m3148/3148\u001b[0m \u001b[32m━━━━━━━━━━━━━━━━━━━━\u001b[0m\u001b[37m\u001b[0m \u001b[1m0s\u001b[0m 141ms/step - binary_accuracy: 0.8613 - loss: 0.3218\n",
      "Epoch 33: val_loss did not improve from 0.31358\n",
      "\n",
      "Epoch 33: ReduceLROnPlateau reducing learning rate to 4.999999873689376e-06.\n",
      "\u001b[1m3148/3148\u001b[0m \u001b[32m━━━━━━━━━━━━━━━━━━━━\u001b[0m\u001b[37m\u001b[0m \u001b[1m449s\u001b[0m 143ms/step - binary_accuracy: 0.8613 - loss: 0.3218 - val_binary_accuracy: 0.8618 - val_loss: 0.3188 - learning_rate: 1.0000e-05\n",
      "Epoch 34/50\n",
      "\u001b[1m3148/3148\u001b[0m \u001b[32m━━━━━━━━━━━━━━━━━━━━\u001b[0m\u001b[37m\u001b[0m \u001b[1m0s\u001b[0m 142ms/step - binary_accuracy: 0.8631 - loss: 0.3195\n",
      "Epoch 34: val_loss improved from 0.31358 to 0.31014, saving model to ../checkpoint/model3_34.keras\n",
      "\u001b[1m3148/3148\u001b[0m \u001b[32m━━━━━━━━━━━━━━━━━━━━\u001b[0m\u001b[37m\u001b[0m \u001b[1m451s\u001b[0m 143ms/step - binary_accuracy: 0.8631 - loss: 0.3195 - val_binary_accuracy: 0.8663 - val_loss: 0.3101 - learning_rate: 5.0000e-06\n",
      "Epoch 35/50\n",
      "\u001b[1m3148/3148\u001b[0m \u001b[32m━━━━━━━━━━━━━━━━━━━━\u001b[0m\u001b[37m\u001b[0m \u001b[1m0s\u001b[0m 141ms/step - binary_accuracy: 0.8624 - loss: 0.3191\n",
      "Epoch 35: val_loss improved from 0.31014 to 0.30821, saving model to ../checkpoint/model3_35.keras\n",
      "\u001b[1m3148/3148\u001b[0m \u001b[32m━━━━━━━━━━━━━━━━━━━━\u001b[0m\u001b[37m\u001b[0m \u001b[1m452s\u001b[0m 144ms/step - binary_accuracy: 0.8624 - loss: 0.3191 - val_binary_accuracy: 0.8667 - val_loss: 0.3082 - learning_rate: 5.0000e-06\n",
      "Epoch 36/50\n",
      "\u001b[1m3148/3148\u001b[0m \u001b[32m━━━━━━━━━━━━━━━━━━━━\u001b[0m\u001b[37m\u001b[0m \u001b[1m0s\u001b[0m 142ms/step - binary_accuracy: 0.8626 - loss: 0.3187\n",
      "Epoch 36: val_loss did not improve from 0.30821\n",
      "\u001b[1m3148/3148\u001b[0m \u001b[32m━━━━━━━━━━━━━━━━━━━━\u001b[0m\u001b[37m\u001b[0m \u001b[1m450s\u001b[0m 143ms/step - binary_accuracy: 0.8626 - loss: 0.3187 - val_binary_accuracy: 0.8680 - val_loss: 0.3085 - learning_rate: 5.0000e-06\n",
      "Epoch 37/50\n",
      "\u001b[1m3148/3148\u001b[0m \u001b[32m━━━━━━━━━━━━━━━━━━━━\u001b[0m\u001b[37m\u001b[0m \u001b[1m0s\u001b[0m 142ms/step - binary_accuracy: 0.8620 - loss: 0.3169\n",
      "Epoch 37: val_loss did not improve from 0.30821\n",
      "\u001b[1m3148/3148\u001b[0m \u001b[32m━━━━━━━━━━━━━━━━━━━━\u001b[0m\u001b[37m\u001b[0m \u001b[1m452s\u001b[0m 143ms/step - binary_accuracy: 0.8620 - loss: 0.3169 - val_binary_accuracy: 0.8665 - val_loss: 0.3088 - learning_rate: 5.0000e-06\n",
      "Epoch 38/50\n",
      "\u001b[1m3148/3148\u001b[0m \u001b[32m━━━━━━━━━━━━━━━━━━━━\u001b[0m\u001b[37m\u001b[0m \u001b[1m0s\u001b[0m 142ms/step - binary_accuracy: 0.8633 - loss: 0.3171\n",
      "Epoch 38: val_loss did not improve from 0.30821\n",
      "\u001b[1m3148/3148\u001b[0m \u001b[32m━━━━━━━━━━━━━━━━━━━━\u001b[0m\u001b[37m\u001b[0m \u001b[1m451s\u001b[0m 143ms/step - binary_accuracy: 0.8633 - loss: 0.3171 - val_binary_accuracy: 0.8670 - val_loss: 0.3085 - learning_rate: 5.0000e-06\n",
      "Epoch 39/50\n",
      "\u001b[1m3148/3148\u001b[0m \u001b[32m━━━━━━━━━━━━━━━━━━━━\u001b[0m\u001b[37m\u001b[0m \u001b[1m0s\u001b[0m 144ms/step - binary_accuracy: 0.8640 - loss: 0.3143\n",
      "Epoch 39: val_loss did not improve from 0.30821\n",
      "\u001b[1m3148/3148\u001b[0m \u001b[32m━━━━━━━━━━━━━━━━━━━━\u001b[0m\u001b[37m\u001b[0m \u001b[1m456s\u001b[0m 145ms/step - binary_accuracy: 0.8640 - loss: 0.3143 - val_binary_accuracy: 0.8672 - val_loss: 0.3108 - learning_rate: 5.0000e-06\n",
      "Epoch 40/50\n",
      "\u001b[1m3148/3148\u001b[0m \u001b[32m━━━━━━━━━━━━━━━━━━━━\u001b[0m\u001b[37m\u001b[0m \u001b[1m0s\u001b[0m 143ms/step - binary_accuracy: 0.8645 - loss: 0.3140\n",
      "Epoch 40: val_loss did not improve from 0.30821\n",
      "\n",
      "Epoch 40: ReduceLROnPlateau reducing learning rate to 2.499999936844688e-06.\n",
      "\u001b[1m3148/3148\u001b[0m \u001b[32m━━━━━━━━━━━━━━━━━━━━\u001b[0m\u001b[37m\u001b[0m \u001b[1m455s\u001b[0m 145ms/step - binary_accuracy: 0.8645 - loss: 0.3140 - val_binary_accuracy: 0.8676 - val_loss: 0.3104 - learning_rate: 5.0000e-06\n",
      "Epoch 41/50\n",
      "\u001b[1m3148/3148\u001b[0m \u001b[32m━━━━━━━━━━━━━━━━━━━━\u001b[0m\u001b[37m\u001b[0m \u001b[1m0s\u001b[0m 144ms/step - binary_accuracy: 0.8641 - loss: 0.3146\n",
      "Epoch 41: val_loss did not improve from 0.30821\n",
      "\u001b[1m3148/3148\u001b[0m \u001b[32m━━━━━━━━━━━━━━━━━━━━\u001b[0m\u001b[37m\u001b[0m \u001b[1m457s\u001b[0m 145ms/step - binary_accuracy: 0.8641 - loss: 0.3146 - val_binary_accuracy: 0.8682 - val_loss: 0.3106 - learning_rate: 2.5000e-06\n",
      "Epoch 42/50\n",
      "\u001b[1m3148/3148\u001b[0m \u001b[32m━━━━━━━━━━━━━━━━━━━━\u001b[0m\u001b[37m\u001b[0m \u001b[1m0s\u001b[0m 143ms/step - binary_accuracy: 0.8654 - loss: 0.3133\n",
      "Epoch 42: val_loss did not improve from 0.30821\n",
      "\u001b[1m3148/3148\u001b[0m \u001b[32m━━━━━━━━━━━━━━━━━━━━\u001b[0m\u001b[37m\u001b[0m \u001b[1m453s\u001b[0m 144ms/step - binary_accuracy: 0.8654 - loss: 0.3133 - val_binary_accuracy: 0.8665 - val_loss: 0.3100 - learning_rate: 2.5000e-06\n",
      "Epoch 43/50\n",
      "\u001b[1m3148/3148\u001b[0m \u001b[32m━━━━━━━━━━━━━━━━━━━━\u001b[0m\u001b[37m\u001b[0m \u001b[1m0s\u001b[0m 808ms/step - binary_accuracy: 0.8643 - loss: 0.3127\n",
      "Epoch 43: val_loss did not improve from 0.30821\n",
      "\u001b[1m3148/3148\u001b[0m \u001b[32m━━━━━━━━━━━━━━━━━━━━\u001b[0m\u001b[37m\u001b[0m \u001b[1m2547s\u001b[0m 809ms/step - binary_accuracy: 0.8643 - loss: 0.3127 - val_binary_accuracy: 0.8678 - val_loss: 0.3085 - learning_rate: 2.5000e-06\n",
      "Epoch 44/50\n",
      "\u001b[1m3148/3148\u001b[0m \u001b[32m━━━━━━━━━━━━━━━━━━━━\u001b[0m\u001b[37m\u001b[0m \u001b[1m0s\u001b[0m 146ms/step - binary_accuracy: 0.8652 - loss: 0.3129\n",
      "Epoch 44: val_loss improved from 0.30821 to 0.30646, saving model to ../checkpoint/model3_44.keras\n",
      "\u001b[1m3148/3148\u001b[0m \u001b[32m━━━━━━━━━━━━━━━━━━━━\u001b[0m\u001b[37m\u001b[0m \u001b[1m465s\u001b[0m 148ms/step - binary_accuracy: 0.8652 - loss: 0.3129 - val_binary_accuracy: 0.8698 - val_loss: 0.3065 - learning_rate: 2.5000e-06\n",
      "Epoch 45/50\n",
      "\u001b[1m3148/3148\u001b[0m \u001b[32m━━━━━━━━━━━━━━━━━━━━\u001b[0m\u001b[37m\u001b[0m \u001b[1m0s\u001b[0m 149ms/step - binary_accuracy: 0.8654 - loss: 0.3117\n",
      "Epoch 45: val_loss improved from 0.30646 to 0.30639, saving model to ../checkpoint/model3_45.keras\n",
      "\u001b[1m3148/3148\u001b[0m \u001b[32m━━━━━━━━━━━━━━━━━━━━\u001b[0m\u001b[37m\u001b[0m \u001b[1m473s\u001b[0m 150ms/step - binary_accuracy: 0.8654 - loss: 0.3117 - val_binary_accuracy: 0.8688 - val_loss: 0.3064 - learning_rate: 2.5000e-06\n",
      "Epoch 46/50\n",
      "\u001b[1m3148/3148\u001b[0m \u001b[32m━━━━━━━━━━━━━━━━━━━━\u001b[0m\u001b[37m\u001b[0m \u001b[1m0s\u001b[0m 157ms/step - binary_accuracy: 0.8647 - loss: 0.3122\n",
      "Epoch 46: val_loss did not improve from 0.30639\n",
      "\u001b[1m3148/3148\u001b[0m \u001b[32m━━━━━━━━━━━━━━━━━━━━\u001b[0m\u001b[37m\u001b[0m \u001b[1m499s\u001b[0m 159ms/step - binary_accuracy: 0.8647 - loss: 0.3122 - val_binary_accuracy: 0.8684 - val_loss: 0.3072 - learning_rate: 2.5000e-06\n",
      "Epoch 47/50\n",
      "\u001b[1m3148/3148\u001b[0m \u001b[32m━━━━━━━━━━━━━━━━━━━━\u001b[0m\u001b[37m\u001b[0m \u001b[1m0s\u001b[0m 153ms/step - binary_accuracy: 0.8657 - loss: 0.3113\n",
      "Epoch 47: val_loss did not improve from 0.30639\n",
      "\u001b[1m3148/3148\u001b[0m \u001b[32m━━━━━━━━━━━━━━━━━━━━\u001b[0m\u001b[37m\u001b[0m \u001b[1m485s\u001b[0m 154ms/step - binary_accuracy: 0.8657 - loss: 0.3113 - val_binary_accuracy: 0.8680 - val_loss: 0.3065 - learning_rate: 2.5000e-06\n",
      "Epoch 48/50\n",
      "\u001b[1m3148/3148\u001b[0m \u001b[32m━━━━━━━━━━━━━━━━━━━━\u001b[0m\u001b[37m\u001b[0m \u001b[1m0s\u001b[0m 145ms/step - binary_accuracy: 0.8658 - loss: 0.3113\n",
      "Epoch 48: val_loss did not improve from 0.30639\n",
      "\u001b[1m3148/3148\u001b[0m \u001b[32m━━━━━━━━━━━━━━━━━━━━\u001b[0m\u001b[37m\u001b[0m \u001b[1m463s\u001b[0m 147ms/step - binary_accuracy: 0.8658 - loss: 0.3113 - val_binary_accuracy: 0.8680 - val_loss: 0.3065 - learning_rate: 2.5000e-06\n",
      "Epoch 49/50\n",
      "\u001b[1m3148/3148\u001b[0m \u001b[32m━━━━━━━━━━━━━━━━━━━━\u001b[0m\u001b[37m\u001b[0m \u001b[1m0s\u001b[0m 145ms/step - binary_accuracy: 0.8668 - loss: 0.3092\n",
      "Epoch 49: val_loss improved from 0.30639 to 0.30586, saving model to ../checkpoint/model3_49.keras\n",
      "\u001b[1m3148/3148\u001b[0m \u001b[32m━━━━━━━━━━━━━━━━━━━━\u001b[0m\u001b[37m\u001b[0m \u001b[1m463s\u001b[0m 147ms/step - binary_accuracy: 0.8668 - loss: 0.3092 - val_binary_accuracy: 0.8692 - val_loss: 0.3059 - learning_rate: 2.5000e-06\n",
      "Epoch 50/50\n",
      "\u001b[1m3148/3148\u001b[0m \u001b[32m━━━━━━━━━━━━━━━━━━━━\u001b[0m\u001b[37m\u001b[0m \u001b[1m0s\u001b[0m 145ms/step - binary_accuracy: 0.8662 - loss: 0.3104\n",
      "Epoch 50: val_loss improved from 0.30586 to 0.30436, saving model to ../checkpoint/model3_50.keras\n",
      "\u001b[1m3148/3148\u001b[0m \u001b[32m━━━━━━━━━━━━━━━━━━━━\u001b[0m\u001b[37m\u001b[0m \u001b[1m462s\u001b[0m 147ms/step - binary_accuracy: 0.8662 - loss: 0.3104 - val_binary_accuracy: 0.8686 - val_loss: 0.3044 - learning_rate: 2.5000e-06\n"
     ]
    }
   ],
   "source": [
    "\n",
    "# Enable async GPU memory allocation and mixed precision\n",
    "os.environ['TF_GPU_ALLOCATOR'] = 'cuda_malloc_async'\n",
    "\n",
    "set_global_policy('mixed_float16')\n",
    "\n",
    "tf.keras.backend.clear_session()\n",
    "\n",
    "\n",
    "with tf.device('/GPU:0'):\n",
    "    history = model.fit(\n",
    "        train_ds,\n",
    "        validation_data=val_ds,\n",
    "        initial_epoch = 25,\n",
    "        epochs=50,\n",
    "        # batch_size = 8,\n",
    "        verbose = 1,\n",
    "        callbacks = my_callbacks\n",
    "    )"
   ]
  },
  {
   "cell_type": "code",
   "execution_count": 25,
   "id": "341e226b",
   "metadata": {},
   "outputs": [
    {
     "data": {
      "image/png": "[encoded data removed]",
      "text/plain": [
       "<Figure size 640x480 with 1 Axes>"
      ]
     },
     "metadata": {},
     "output_type": "display_data"
    },
    {
     "data": {
      "image/png": "[encoded data removed]",
      "text/plain": [
       "<Figure size 640x480 with 1 Axes>"
      ]
     },
     "metadata": {},
     "output_type": "display_data"
    }
   ],
   "source": [
    "import matplotlib.pyplot as plt\n",
    "\n",
    "plt.plot(history.history['binary_accuracy'], label='train_accuracy')\n",
    "plt.plot(history.history['val_binary_accuracy'], label='val_accuracy')\n",
    "plt.xlabel('Epoch')\n",
    "# plt.xlim(0,25)\n",
    "plt.ylim(0.80,.89)\n",
    "plt.ylabel('Accuracy')\n",
    "plt.legend()\n",
    "plt.show()\n",
    "\n",
    "plt.plot(history.history['loss'], label='train_loss')\n",
    "plt.plot(history.history['val_loss'], label='val_loss')\n",
    "plt.xlabel('Epoch')\n",
    "plt.ylabel('Loss')\n",
    "plt.legend()\n",
    "plt.show()"
   ]
  },
  {
   "cell_type": "code",
   "execution_count": 24,
   "id": "6b2df53d",
   "metadata": {},
   "outputs": [],
   "source": [
    "import pickle\n",
    "\n",
    "# Save\n",
    "with open('../history/history.pkl', 'wb') as f:\n",
    "    pickle.dump(history.history, f)"
   ]
  },
  {
   "cell_type": "code",
   "execution_count": 26,
   "id": "3c6c677f",
   "metadata": {},
   "outputs": [],
   "source": [
    "\n",
    "X_test = np.load(\"../data/numpy/X_test.npy\")\n",
    "Y_test = np.load(\"../data/numpy/Y_test.npy\")\n",
    "\n"
   ]
  },
  {
   "cell_type": "code",
   "execution_count": null,
   "id": "83c69931",
   "metadata": {},
   "outputs": [
    {
     "name": "stdout",
     "output_type": "stream",
     "text": [
      "\u001b[1m22/22\u001b[0m \u001b[32m━━━━━━━━━━━━━━━━━━━━\u001b[0m\u001b[37m\u001b[0m \u001b[1m13s\u001b[0m 448ms/step\n",
      "Classification Report:\n",
      "              precision    recall  f1-score   support\n",
      "\n",
      "           0       0.70      0.10      0.17       200\n",
      "           1       0.42      0.19      0.26        52\n",
      "           2       1.00      0.03      0.06        30\n",
      "           3       0.64      0.25      0.36       190\n",
      "           4       0.00      0.00      0.00        22\n",
      "           5       0.00      0.00      0.00         9\n",
      "           6       0.69      0.28      0.39       196\n",
      "\n",
      "   micro avg       0.64      0.19      0.29       699\n",
      "   macro avg       0.49      0.12      0.18       699\n",
      "weighted avg       0.64      0.19      0.28       699\n",
      " samples avg       0.19      0.19      0.19       699\n",
      "\n",
      "Confusion Matrix:\n",
      "[[177   2   0   9   0   0  12]\n",
      " [ 37  10   0   4   0   0   1]\n",
      " [ 23   0   1   3   0   0   3]\n",
      " [134   4   0  47   0   0   5]\n",
      " [ 19   1   0   0   0   0   2]\n",
      " [  7   0   0   1   0   0   1]\n",
      " [126   7   0  10   0   0  53]]\n"
     ]
    }
   ],
   "source": [
    "from sklearn.metrics import classification_report, confusion_matrix\n",
    "\n",
    "pred_probs = model.predict(X_val)\n",
    "pred_labels = (pred_probs > 0.5).astype(int)\n",
    "\n",
    "print(\"Classification Report:\")\n",
    "print(classification_report(Y_val, pred_labels, zero_division=0))\n",
    "\n",
    "print(\"Confusion Matrix:\")\n",
    "print(confusion_matrix(Y_val.argmax(axis=1), pred_labels.argmax(axis=1)))"
   ]
  },
  {
   "cell_type": "code",
   "execution_count": 90,
   "id": "52d839b5",
   "metadata": {},
   "outputs": [],
   "source": [
    "import cv2\n",
    "# def get_img_array(img_path, size):\n",
    "#     img = cv2.imread(img_path)\n",
    "#     img = cv2.resize(img, size)  # Resize manually\n",
    "#     img = cv2.cvtColor(img, cv2.COLOR_BGR2GRAY)  # Keras expects RGB\n",
    "#     img = img.astype(\"float32\") / 255.0\n",
    "#     img = np.expand_dims(img, axis=-1) \n",
    "#     img = np.expand_dims(img, axis=0) # Add batch dimension\n",
    "\n",
    "#     return img\n",
    "def get_img_array(img_path, size):\n",
    "    # Direct grayscale loading\n",
    "    img = tf.keras.utils.load_img(img_path, color_mode='grayscale')\n",
    "    img = img.resize(size)\n",
    "    array = tf.keras.utils.img_to_array(img)  # Shape (224,224,1)\n",
    "    array = np.expand_dims(array, axis=0)\n",
    "    return array / 255.0\n",
    "\n",
    "# def make_gradcam_heatmap(img_array, model, last_conv_layer_name, pred_index=None):\n",
    "#     # base_model = model.get_layer(\"efficientnetb0\")  # This assumes the layer is named \"efficientnetb0\"\n",
    "#     # print(\"Base model input layer name:\", base_model.input.name)  # This is the actual input layer for EfficientNetB0\n",
    "    \n",
    "#     # for layer in model.layers:\n",
    "#     #     print(f\"Layer Name: {layer.name}, Layer Type: {layer.__class__.__name__}\")\n",
    "#     # print(model.input.name)\n",
    "\n",
    "#     # input_tensor = model.input\n",
    "#     # grad_model = tf.keras.models.Model(\n",
    "#     #     inputs = input_tensor, outputs = [base_model.get_layer(\"top_conv\").output, model.output]\n",
    "#     # )\n",
    "\n",
    "#         # 1) grab your EfficientNet sub‐model\n",
    "#     effnet = model.get_layer(\"efficientnetb0\")\n",
    "\n",
    "#     # 2) grab its last conv layer\n",
    "#     last_conv = effnet.get_layer(last_conv_layer_name)\n",
    "\n",
    "#     # 3) build a model that maps\n",
    "#     #      -> your *original* input  — model.inputs\n",
    "#     #      -> [feature maps @ last_conv, final predictions]\n",
    "#     grad_model = tf.keras.models.Model(\n",
    "#         inputs  = model.input,\n",
    "#         outputs = [last_conv.output, model.output]\n",
    "#     )\n",
    "\n",
    "#     # (– now grad_model.inputs[0] will be your original input_layer_1 –)\n",
    "#     print(\"Grad‑model input:\", grad_model.input.name)\n",
    "#     # print(grad_model.summary())\n",
    "\n",
    "\n",
    "#     with tf.GradientTape() as tape:\n",
    "#         last_conv_layer_output, preds = grad_model(img_array)\n",
    "#         # if pred_index is None:\n",
    "#         #     pred_index = tf.argmax(preds[0])\n",
    "#         class_channel = preds[:, pred_index]\n",
    "\n",
    "#     grads = tape.gradient(class_channel, last_conv_layer_output)\n",
    "\n",
    "#     pooled_grads = tf.reduce_mean(grads, axis=(0, 1, 2))\n",
    "\n",
    "#     last_conv_layer_output = last_conv_layer_output[0]\n",
    "#     heatmap = last_conv_layer_output @ pooled_grads[..., tf.newaxis]\n",
    "#     heatmap = tf.squeeze(heatmap)\n",
    "\n",
    "#     heatmap = tf.maximum(heatmap, 0) / tf.math.reduce_max(heatmap)\n",
    "#     return heatmap.numpy()\n",
    "\n"
   ]
  },
  {
   "cell_type": "code",
   "execution_count": null,
   "id": "ff2e9447",
   "metadata": {},
   "outputs": [],
   "source": [
    "# img_array = get_img_array(\"../data/tests/00030786_003.png\", size=(224, 224))  # or (299, 299)\n",
    "# print(img_array.shape)\n",
    "# preds = model.predict(img_array) # shape: (num_labels,)\n",
    "\n",
    "# print(preds)\n",
    "# threshold = 0.5\n",
    "# active_labels = np.where(preds > threshold)\n",
    "\n",
    "# for label_index in active_labels:\n",
    "#     heatmap = make_gradcam_heatmap(img_array, model, \"top_conv\", pred_index=label_index)\n",
    "#     # overlay heatmap or save it"
   ]
  },
  {
   "cell_type": "code",
   "execution_count": 31,
   "id": "289f3073",
   "metadata": {},
   "outputs": [
    {
     "data": {
      "text/html": [
       "<pre style=\"white-space:pre;overflow-x:auto;line-height:normal;font-family:Menlo,'DejaVu Sans Mono',consolas,'Courier New',monospace\"><span style=\"font-weight: bold\">Model: \"functional_1\"</span>\n",
       "</pre>\n"
      ],
      "text/plain": [
       "\u001b[1mModel: \"functional_1\"\u001b[0m\n"
      ]
     },
     "metadata": {},
     "output_type": "display_data"
    },
    {
     "data": {
      "text/html": [
       "<pre style=\"white-space:pre;overflow-x:auto;line-height:normal;font-family:Menlo,'DejaVu Sans Mono',consolas,'Courier New',monospace\">┏━━━━━━━━━━━━━━━━━━━━━━━━━━━━━━━━━┳━━━━━━━━━━━━━━━━━━━━━━━━┳━━━━━━━━━━━━━━━┓\n",
       "┃<span style=\"font-weight: bold\"> Layer (type)                    </span>┃<span style=\"font-weight: bold\"> Output Shape           </span>┃<span style=\"font-weight: bold\">       Param # </span>┃\n",
       "┡━━━━━━━━━━━━━━━━━━━━━━━━━━━━━━━━━╇━━━━━━━━━━━━━━━━━━━━━━━━╇━━━━━━━━━━━━━━━┩\n",
       "│ input_layer_1 (<span style=\"color: #0087ff; text-decoration-color: #0087ff\">InputLayer</span>)      │ (<span style=\"color: #00d7ff; text-decoration-color: #00d7ff\">None</span>, <span style=\"color: #00af00; text-decoration-color: #00af00\">224</span>, <span style=\"color: #00af00; text-decoration-color: #00af00\">224</span>, <span style=\"color: #00af00; text-decoration-color: #00af00\">1</span>)    │             <span style=\"color: #00af00; text-decoration-color: #00af00\">0</span> │\n",
       "├─────────────────────────────────┼────────────────────────┼───────────────┤\n",
       "│ sequential (<span style=\"color: #0087ff; text-decoration-color: #0087ff\">Sequential</span>)         │ (<span style=\"color: #00d7ff; text-decoration-color: #00d7ff\">None</span>, <span style=\"color: #00af00; text-decoration-color: #00af00\">224</span>, <span style=\"color: #00af00; text-decoration-color: #00af00\">224</span>, <span style=\"color: #00af00; text-decoration-color: #00af00\">1</span>)    │             <span style=\"color: #00af00; text-decoration-color: #00af00\">0</span> │\n",
       "├─────────────────────────────────┼────────────────────────┼───────────────┤\n",
       "│ conv2d (<span style=\"color: #0087ff; text-decoration-color: #0087ff\">Conv2D</span>)                 │ (<span style=\"color: #00d7ff; text-decoration-color: #00d7ff\">None</span>, <span style=\"color: #00af00; text-decoration-color: #00af00\">224</span>, <span style=\"color: #00af00; text-decoration-color: #00af00\">224</span>, <span style=\"color: #00af00; text-decoration-color: #00af00\">3</span>)    │            <span style=\"color: #00af00; text-decoration-color: #00af00\">30</span> │\n",
       "├─────────────────────────────────┼────────────────────────┼───────────────┤\n",
       "│ efficientnetb0 (<span style=\"color: #0087ff; text-decoration-color: #0087ff\">Functional</span>)     │ (<span style=\"color: #00d7ff; text-decoration-color: #00d7ff\">None</span>, <span style=\"color: #00af00; text-decoration-color: #00af00\">7</span>, <span style=\"color: #00af00; text-decoration-color: #00af00\">7</span>, <span style=\"color: #00af00; text-decoration-color: #00af00\">1280</span>)     │     <span style=\"color: #00af00; text-decoration-color: #00af00\">4,049,571</span> │\n",
       "├─────────────────────────────────┼────────────────────────┼───────────────┤\n",
       "│ global_average_pooling2d        │ (<span style=\"color: #00d7ff; text-decoration-color: #00d7ff\">None</span>, <span style=\"color: #00af00; text-decoration-color: #00af00\">1280</span>)           │             <span style=\"color: #00af00; text-decoration-color: #00af00\">0</span> │\n",
       "│ (<span style=\"color: #0087ff; text-decoration-color: #0087ff\">GlobalAveragePooling2D</span>)        │                        │               │\n",
       "├─────────────────────────────────┼────────────────────────┼───────────────┤\n",
       "│ dense (<span style=\"color: #0087ff; text-decoration-color: #0087ff\">Dense</span>)                   │ (<span style=\"color: #00d7ff; text-decoration-color: #00d7ff\">None</span>, <span style=\"color: #00af00; text-decoration-color: #00af00\">7</span>)              │         <span style=\"color: #00af00; text-decoration-color: #00af00\">8,967</span> │\n",
       "└─────────────────────────────────┴────────────────────────┴───────────────┘\n",
       "</pre>\n"
      ],
      "text/plain": [
       "┏━━━━━━━━━━━━━━━━━━━━━━━━━━━━━━━━━┳━━━━━━━━━━━━━━━━━━━━━━━━┳━━━━━━━━━━━━━━━┓\n",
       "┃\u001b[1m \u001b[0m\u001b[1mLayer (type)                   \u001b[0m\u001b[1m \u001b[0m┃\u001b[1m \u001b[0m\u001b[1mOutput Shape          \u001b[0m\u001b[1m \u001b[0m┃\u001b[1m \u001b[0m\u001b[1m      Param #\u001b[0m\u001b[1m \u001b[0m┃\n",
       "┡━━━━━━━━━━━━━━━━━━━━━━━━━━━━━━━━━╇━━━━━━━━━━━━━━━━━━━━━━━━╇━━━━━━━━━━━━━━━┩\n",
       "│ input_layer_1 (\u001b[38;5;33mInputLayer\u001b[0m)      │ (\u001b[38;5;45mNone\u001b[0m, \u001b[38;5;34m224\u001b[0m, \u001b[38;5;34m224\u001b[0m, \u001b[38;5;34m1\u001b[0m)    │             \u001b[38;5;34m0\u001b[0m │\n",
       "├─────────────────────────────────┼────────────────────────┼───────────────┤\n",
       "│ sequential (\u001b[38;5;33mSequential\u001b[0m)         │ (\u001b[38;5;45mNone\u001b[0m, \u001b[38;5;34m224\u001b[0m, \u001b[38;5;34m224\u001b[0m, \u001b[38;5;34m1\u001b[0m)    │             \u001b[38;5;34m0\u001b[0m │\n",
       "├─────────────────────────────────┼────────────────────────┼───────────────┤\n",
       "│ conv2d (\u001b[38;5;33mConv2D\u001b[0m)                 │ (\u001b[38;5;45mNone\u001b[0m, \u001b[38;5;34m224\u001b[0m, \u001b[38;5;34m224\u001b[0m, \u001b[38;5;34m3\u001b[0m)    │            \u001b[38;5;34m30\u001b[0m │\n",
       "├─────────────────────────────────┼────────────────────────┼───────────────┤\n",
       "│ efficientnetb0 (\u001b[38;5;33mFunctional\u001b[0m)     │ (\u001b[38;5;45mNone\u001b[0m, \u001b[38;5;34m7\u001b[0m, \u001b[38;5;34m7\u001b[0m, \u001b[38;5;34m1280\u001b[0m)     │     \u001b[38;5;34m4,049,571\u001b[0m │\n",
       "├─────────────────────────────────┼────────────────────────┼───────────────┤\n",
       "│ global_average_pooling2d        │ (\u001b[38;5;45mNone\u001b[0m, \u001b[38;5;34m1280\u001b[0m)           │             \u001b[38;5;34m0\u001b[0m │\n",
       "│ (\u001b[38;5;33mGlobalAveragePooling2D\u001b[0m)        │                        │               │\n",
       "├─────────────────────────────────┼────────────────────────┼───────────────┤\n",
       "│ dense (\u001b[38;5;33mDense\u001b[0m)                   │ (\u001b[38;5;45mNone\u001b[0m, \u001b[38;5;34m7\u001b[0m)              │         \u001b[38;5;34m8,967\u001b[0m │\n",
       "└─────────────────────────────────┴────────────────────────┴───────────────┘\n"
      ]
     },
     "metadata": {},
     "output_type": "display_data"
    },
    {
     "data": {
      "text/html": [
       "<pre style=\"white-space:pre;overflow-x:auto;line-height:normal;font-family:Menlo,'DejaVu Sans Mono',consolas,'Courier New',monospace\"><span style=\"font-weight: bold\"> Total params: </span><span style=\"color: #00af00; text-decoration-color: #00af00\">11,474,340</span> (43.77 MB)\n",
       "</pre>\n"
      ],
      "text/plain": [
       "\u001b[1m Total params: \u001b[0m\u001b[38;5;34m11,474,340\u001b[0m (43.77 MB)\n"
      ]
     },
     "metadata": {},
     "output_type": "display_data"
    },
    {
     "data": {
      "text/html": [
       "<pre style=\"white-space:pre;overflow-x:auto;line-height:normal;font-family:Menlo,'DejaVu Sans Mono',consolas,'Courier New',monospace\"><span style=\"font-weight: bold\"> Trainable params: </span><span style=\"color: #00af00; text-decoration-color: #00af00\">3,707,885</span> (14.14 MB)\n",
       "</pre>\n"
      ],
      "text/plain": [
       "\u001b[1m Trainable params: \u001b[0m\u001b[38;5;34m3,707,885\u001b[0m (14.14 MB)\n"
      ]
     },
     "metadata": {},
     "output_type": "display_data"
    },
    {
     "data": {
      "text/html": [
       "<pre style=\"white-space:pre;overflow-x:auto;line-height:normal;font-family:Menlo,'DejaVu Sans Mono',consolas,'Courier New',monospace\"><span style=\"font-weight: bold\"> Non-trainable params: </span><span style=\"color: #00af00; text-decoration-color: #00af00\">350,683</span> (1.34 MB)\n",
       "</pre>\n"
      ],
      "text/plain": [
       "\u001b[1m Non-trainable params: \u001b[0m\u001b[38;5;34m350,683\u001b[0m (1.34 MB)\n"
      ]
     },
     "metadata": {},
     "output_type": "display_data"
    },
    {
     "data": {
      "text/html": [
       "<pre style=\"white-space:pre;overflow-x:auto;line-height:normal;font-family:Menlo,'DejaVu Sans Mono',consolas,'Courier New',monospace\"><span style=\"font-weight: bold\"> Optimizer params: </span><span style=\"color: #00af00; text-decoration-color: #00af00\">7,415,772</span> (28.29 MB)\n",
       "</pre>\n"
      ],
      "text/plain": [
       "\u001b[1m Optimizer params: \u001b[0m\u001b[38;5;34m7,415,772\u001b[0m (28.29 MB)\n"
      ]
     },
     "metadata": {},
     "output_type": "display_data"
    }
   ],
   "source": [
    "base = model.get_layer(\"efficientnetb0\")\n",
    "model.summary()\n",
    "# print(model.input.shape)  "
   ]
  },
  {
   "cell_type": "code",
   "execution_count": 91,
   "id": "e25c6966",
   "metadata": {},
   "outputs": [
    {
     "name": "stdout",
     "output_type": "stream",
     "text": [
      "Using conv layer: top_conv\n",
      "input_layer_1\n",
      "0 <InputLayer name=input_layer, built=True>\n",
      "1 <Rescaling name=rescaling, built=True>\n",
      "2 <Normalization name=normalization, built=True>\n",
      "3 <Rescaling name=rescaling_1, built=True>\n",
      "4 <ZeroPadding2D name=stem_conv_pad, built=True>\n",
      "5 <Conv2D name=stem_conv, built=True>\n",
      "6 <BatchNormalization name=stem_bn, built=True>\n",
      "7 <Activation name=stem_activation, built=True>\n",
      "8 <DepthwiseConv2D name=block1a_dwconv, built=True>\n",
      "9 <BatchNormalization name=block1a_bn, built=True>\n",
      "10 <Activation name=block1a_activation, built=True>\n",
      "11 <GlobalAveragePooling2D name=block1a_se_squeeze, built=True>\n",
      "12 <Reshape name=block1a_se_reshape, built=True>\n",
      "13 <Conv2D name=block1a_se_reduce, built=True>\n",
      "14 <Conv2D name=block1a_se_expand, built=True>\n",
      "15 <Multiply name=block1a_se_excite, built=True>\n",
      "16 <Conv2D name=block1a_project_conv, built=True>\n",
      "17 <BatchNormalization name=block1a_project_bn, built=True>\n",
      "18 <Conv2D name=block2a_expand_conv, built=True>\n",
      "19 <BatchNormalization name=block2a_expand_bn, built=True>\n",
      "20 <Activation name=block2a_expand_activation, built=True>\n",
      "21 <ZeroPadding2D name=block2a_dwconv_pad, built=True>\n",
      "22 <DepthwiseConv2D name=block2a_dwconv, built=True>\n",
      "23 <BatchNormalization name=block2a_bn, built=True>\n",
      "24 <Activation name=block2a_activation, built=True>\n",
      "25 <GlobalAveragePooling2D name=block2a_se_squeeze, built=True>\n",
      "26 <Reshape name=block2a_se_reshape, built=True>\n",
      "27 <Conv2D name=block2a_se_reduce, built=True>\n",
      "28 <Conv2D name=block2a_se_expand, built=True>\n",
      "29 <Multiply name=block2a_se_excite, built=True>\n",
      "30 <Conv2D name=block2a_project_conv, built=True>\n",
      "31 <BatchNormalization name=block2a_project_bn, built=True>\n",
      "32 <Conv2D name=block2b_expand_conv, built=True>\n",
      "33 <BatchNormalization name=block2b_expand_bn, built=True>\n",
      "34 <Activation name=block2b_expand_activation, built=True>\n",
      "35 <DepthwiseConv2D name=block2b_dwconv, built=True>\n",
      "36 <BatchNormalization name=block2b_bn, built=True>\n",
      "37 <Activation name=block2b_activation, built=True>\n",
      "38 <GlobalAveragePooling2D name=block2b_se_squeeze, built=True>\n",
      "39 <Reshape name=block2b_se_reshape, built=True>\n",
      "40 <Conv2D name=block2b_se_reduce, built=True>\n",
      "41 <Conv2D name=block2b_se_expand, built=True>\n",
      "42 <Multiply name=block2b_se_excite, built=True>\n",
      "43 <Conv2D name=block2b_project_conv, built=True>\n",
      "44 <BatchNormalization name=block2b_project_bn, built=True>\n",
      "45 <Dropout name=block2b_drop, built=True>\n",
      "46 <Add name=block2b_add, built=True>\n",
      "47 <Conv2D name=block3a_expand_conv, built=True>\n",
      "48 <BatchNormalization name=block3a_expand_bn, built=True>\n",
      "49 <Activation name=block3a_expand_activation, built=True>\n",
      "50 <ZeroPadding2D name=block3a_dwconv_pad, built=True>\n",
      "51 <DepthwiseConv2D name=block3a_dwconv, built=True>\n",
      "52 <BatchNormalization name=block3a_bn, built=True>\n",
      "53 <Activation name=block3a_activation, built=True>\n",
      "54 <GlobalAveragePooling2D name=block3a_se_squeeze, built=True>\n",
      "55 <Reshape name=block3a_se_reshape, built=True>\n",
      "56 <Conv2D name=block3a_se_reduce, built=True>\n",
      "57 <Conv2D name=block3a_se_expand, built=True>\n",
      "58 <Multiply name=block3a_se_excite, built=True>\n",
      "59 <Conv2D name=block3a_project_conv, built=True>\n",
      "60 <BatchNormalization name=block3a_project_bn, built=True>\n",
      "61 <Conv2D name=block3b_expand_conv, built=True>\n",
      "62 <BatchNormalization name=block3b_expand_bn, built=True>\n",
      "63 <Activation name=block3b_expand_activation, built=True>\n",
      "64 <DepthwiseConv2D name=block3b_dwconv, built=True>\n",
      "65 <BatchNormalization name=block3b_bn, built=True>\n",
      "66 <Activation name=block3b_activation, built=True>\n",
      "67 <GlobalAveragePooling2D name=block3b_se_squeeze, built=True>\n",
      "68 <Reshape name=block3b_se_reshape, built=True>\n",
      "69 <Conv2D name=block3b_se_reduce, built=True>\n",
      "70 <Conv2D name=block3b_se_expand, built=True>\n",
      "71 <Multiply name=block3b_se_excite, built=True>\n",
      "72 <Conv2D name=block3b_project_conv, built=True>\n",
      "73 <BatchNormalization name=block3b_project_bn, built=True>\n",
      "74 <Dropout name=block3b_drop, built=True>\n",
      "75 <Add name=block3b_add, built=True>\n",
      "76 <Conv2D name=block4a_expand_conv, built=True>\n",
      "77 <BatchNormalization name=block4a_expand_bn, built=True>\n",
      "78 <Activation name=block4a_expand_activation, built=True>\n",
      "79 <ZeroPadding2D name=block4a_dwconv_pad, built=True>\n",
      "80 <DepthwiseConv2D name=block4a_dwconv, built=True>\n",
      "81 <BatchNormalization name=block4a_bn, built=True>\n",
      "82 <Activation name=block4a_activation, built=True>\n",
      "83 <GlobalAveragePooling2D name=block4a_se_squeeze, built=True>\n",
      "84 <Reshape name=block4a_se_reshape, built=True>\n",
      "85 <Conv2D name=block4a_se_reduce, built=True>\n",
      "86 <Conv2D name=block4a_se_expand, built=True>\n",
      "87 <Multiply name=block4a_se_excite, built=True>\n",
      "88 <Conv2D name=block4a_project_conv, built=True>\n",
      "89 <BatchNormalization name=block4a_project_bn, built=True>\n",
      "90 <Conv2D name=block4b_expand_conv, built=True>\n",
      "91 <BatchNormalization name=block4b_expand_bn, built=True>\n",
      "92 <Activation name=block4b_expand_activation, built=True>\n",
      "93 <DepthwiseConv2D name=block4b_dwconv, built=True>\n",
      "94 <BatchNormalization name=block4b_bn, built=True>\n",
      "95 <Activation name=block4b_activation, built=True>\n",
      "96 <GlobalAveragePooling2D name=block4b_se_squeeze, built=True>\n",
      "97 <Reshape name=block4b_se_reshape, built=True>\n",
      "98 <Conv2D name=block4b_se_reduce, built=True>\n",
      "99 <Conv2D name=block4b_se_expand, built=True>\n",
      "100 <Multiply name=block4b_se_excite, built=True>\n",
      "101 <Conv2D name=block4b_project_conv, built=True>\n",
      "102 <BatchNormalization name=block4b_project_bn, built=True>\n",
      "103 <Dropout name=block4b_drop, built=True>\n",
      "104 <Add name=block4b_add, built=True>\n",
      "105 <Conv2D name=block4c_expand_conv, built=True>\n",
      "106 <BatchNormalization name=block4c_expand_bn, built=True>\n",
      "107 <Activation name=block4c_expand_activation, built=True>\n",
      "108 <DepthwiseConv2D name=block4c_dwconv, built=True>\n",
      "109 <BatchNormalization name=block4c_bn, built=True>\n",
      "110 <Activation name=block4c_activation, built=True>\n",
      "111 <GlobalAveragePooling2D name=block4c_se_squeeze, built=True>\n",
      "112 <Reshape name=block4c_se_reshape, built=True>\n",
      "113 <Conv2D name=block4c_se_reduce, built=True>\n",
      "114 <Conv2D name=block4c_se_expand, built=True>\n",
      "115 <Multiply name=block4c_se_excite, built=True>\n",
      "116 <Conv2D name=block4c_project_conv, built=True>\n",
      "117 <BatchNormalization name=block4c_project_bn, built=True>\n",
      "118 <Dropout name=block4c_drop, built=True>\n",
      "119 <Add name=block4c_add, built=True>\n",
      "120 <Conv2D name=block5a_expand_conv, built=True>\n",
      "121 <BatchNormalization name=block5a_expand_bn, built=True>\n",
      "122 <Activation name=block5a_expand_activation, built=True>\n",
      "123 <DepthwiseConv2D name=block5a_dwconv, built=True>\n",
      "124 <BatchNormalization name=block5a_bn, built=True>\n",
      "125 <Activation name=block5a_activation, built=True>\n",
      "126 <GlobalAveragePooling2D name=block5a_se_squeeze, built=True>\n",
      "127 <Reshape name=block5a_se_reshape, built=True>\n",
      "128 <Conv2D name=block5a_se_reduce, built=True>\n",
      "129 <Conv2D name=block5a_se_expand, built=True>\n",
      "130 <Multiply name=block5a_se_excite, built=True>\n",
      "131 <Conv2D name=block5a_project_conv, built=True>\n",
      "132 <BatchNormalization name=block5a_project_bn, built=True>\n",
      "133 <Conv2D name=block5b_expand_conv, built=True>\n",
      "134 <BatchNormalization name=block5b_expand_bn, built=True>\n",
      "135 <Activation name=block5b_expand_activation, built=True>\n",
      "136 <DepthwiseConv2D name=block5b_dwconv, built=True>\n",
      "137 <BatchNormalization name=block5b_bn, built=True>\n",
      "138 <Activation name=block5b_activation, built=True>\n",
      "139 <GlobalAveragePooling2D name=block5b_se_squeeze, built=True>\n",
      "140 <Reshape name=block5b_se_reshape, built=True>\n",
      "141 <Conv2D name=block5b_se_reduce, built=True>\n",
      "142 <Conv2D name=block5b_se_expand, built=True>\n",
      "143 <Multiply name=block5b_se_excite, built=True>\n",
      "144 <Conv2D name=block5b_project_conv, built=True>\n",
      "145 <BatchNormalization name=block5b_project_bn, built=True>\n",
      "146 <Dropout name=block5b_drop, built=True>\n",
      "147 <Add name=block5b_add, built=True>\n",
      "148 <Conv2D name=block5c_expand_conv, built=True>\n",
      "149 <BatchNormalization name=block5c_expand_bn, built=True>\n",
      "150 <Activation name=block5c_expand_activation, built=True>\n",
      "151 <DepthwiseConv2D name=block5c_dwconv, built=True>\n",
      "152 <BatchNormalization name=block5c_bn, built=True>\n",
      "153 <Activation name=block5c_activation, built=True>\n",
      "154 <GlobalAveragePooling2D name=block5c_se_squeeze, built=True>\n",
      "155 <Reshape name=block5c_se_reshape, built=True>\n",
      "156 <Conv2D name=block5c_se_reduce, built=True>\n",
      "157 <Conv2D name=block5c_se_expand, built=True>\n",
      "158 <Multiply name=block5c_se_excite, built=True>\n",
      "159 <Conv2D name=block5c_project_conv, built=True>\n",
      "160 <BatchNormalization name=block5c_project_bn, built=True>\n",
      "161 <Dropout name=block5c_drop, built=True>\n",
      "162 <Add name=block5c_add, built=True>\n",
      "163 <Conv2D name=block6a_expand_conv, built=True>\n",
      "164 <BatchNormalization name=block6a_expand_bn, built=True>\n",
      "165 <Activation name=block6a_expand_activation, built=True>\n",
      "166 <ZeroPadding2D name=block6a_dwconv_pad, built=True>\n",
      "167 <DepthwiseConv2D name=block6a_dwconv, built=True>\n",
      "168 <BatchNormalization name=block6a_bn, built=True>\n",
      "169 <Activation name=block6a_activation, built=True>\n",
      "170 <GlobalAveragePooling2D name=block6a_se_squeeze, built=True>\n",
      "171 <Reshape name=block6a_se_reshape, built=True>\n",
      "172 <Conv2D name=block6a_se_reduce, built=True>\n",
      "173 <Conv2D name=block6a_se_expand, built=True>\n",
      "174 <Multiply name=block6a_se_excite, built=True>\n",
      "175 <Conv2D name=block6a_project_conv, built=True>\n",
      "176 <BatchNormalization name=block6a_project_bn, built=True>\n",
      "177 <Conv2D name=block6b_expand_conv, built=True>\n",
      "178 <BatchNormalization name=block6b_expand_bn, built=True>\n",
      "179 <Activation name=block6b_expand_activation, built=True>\n",
      "180 <DepthwiseConv2D name=block6b_dwconv, built=True>\n",
      "181 <BatchNormalization name=block6b_bn, built=True>\n",
      "182 <Activation name=block6b_activation, built=True>\n",
      "183 <GlobalAveragePooling2D name=block6b_se_squeeze, built=True>\n",
      "184 <Reshape name=block6b_se_reshape, built=True>\n",
      "185 <Conv2D name=block6b_se_reduce, built=True>\n",
      "186 <Conv2D name=block6b_se_expand, built=True>\n",
      "187 <Multiply name=block6b_se_excite, built=True>\n",
      "188 <Conv2D name=block6b_project_conv, built=True>\n",
      "189 <BatchNormalization name=block6b_project_bn, built=True>\n",
      "190 <Dropout name=block6b_drop, built=True>\n",
      "191 <Add name=block6b_add, built=True>\n",
      "192 <Conv2D name=block6c_expand_conv, built=True>\n",
      "193 <BatchNormalization name=block6c_expand_bn, built=True>\n",
      "194 <Activation name=block6c_expand_activation, built=True>\n",
      "195 <DepthwiseConv2D name=block6c_dwconv, built=True>\n",
      "196 <BatchNormalization name=block6c_bn, built=True>\n",
      "197 <Activation name=block6c_activation, built=True>\n",
      "198 <GlobalAveragePooling2D name=block6c_se_squeeze, built=True>\n",
      "199 <Reshape name=block6c_se_reshape, built=True>\n",
      "200 <Conv2D name=block6c_se_reduce, built=True>\n",
      "201 <Conv2D name=block6c_se_expand, built=True>\n",
      "202 <Multiply name=block6c_se_excite, built=True>\n",
      "203 <Conv2D name=block6c_project_conv, built=True>\n",
      "204 <BatchNormalization name=block6c_project_bn, built=True>\n",
      "205 <Dropout name=block6c_drop, built=True>\n",
      "206 <Add name=block6c_add, built=True>\n",
      "207 <Conv2D name=block6d_expand_conv, built=True>\n",
      "208 <BatchNormalization name=block6d_expand_bn, built=True>\n",
      "209 <Activation name=block6d_expand_activation, built=True>\n",
      "210 <DepthwiseConv2D name=block6d_dwconv, built=True>\n",
      "211 <BatchNormalization name=block6d_bn, built=True>\n",
      "212 <Activation name=block6d_activation, built=True>\n",
      "213 <GlobalAveragePooling2D name=block6d_se_squeeze, built=True>\n",
      "214 <Reshape name=block6d_se_reshape, built=True>\n",
      "215 <Conv2D name=block6d_se_reduce, built=True>\n",
      "216 <Conv2D name=block6d_se_expand, built=True>\n",
      "217 <Multiply name=block6d_se_excite, built=True>\n",
      "218 <Conv2D name=block6d_project_conv, built=True>\n",
      "219 <BatchNormalization name=block6d_project_bn, built=True>\n",
      "220 <Dropout name=block6d_drop, built=True>\n",
      "221 <Add name=block6d_add, built=True>\n",
      "222 <Conv2D name=block7a_expand_conv, built=True>\n",
      "223 <BatchNormalization name=block7a_expand_bn, built=True>\n",
      "224 <Activation name=block7a_expand_activation, built=True>\n",
      "225 <DepthwiseConv2D name=block7a_dwconv, built=True>\n",
      "226 <BatchNormalization name=block7a_bn, built=True>\n",
      "227 <Activation name=block7a_activation, built=True>\n",
      "228 <GlobalAveragePooling2D name=block7a_se_squeeze, built=True>\n",
      "229 <Reshape name=block7a_se_reshape, built=True>\n",
      "230 <Conv2D name=block7a_se_reduce, built=True>\n",
      "231 <InputLayer name=input_layer_1, built=True>\n",
      "232 <Conv2D name=block7a_se_expand, built=True>\n",
      "233 <Sequential name=sequential, built=True>\n",
      "234 <Multiply name=block7a_se_excite, built=True>\n",
      "235 <Conv2D name=conv2d, built=True>\n",
      "236 <Conv2D name=block7a_project_conv, built=True>\n",
      "237 <Functional name=efficientnetb0, built=True>\n",
      "238 <BatchNormalization name=block7a_project_bn, built=True>\n",
      "239 <GlobalAveragePooling2D name=global_average_pooling2d, built=True>\n",
      "240 <Conv2D name=top_conv, built=True>\n",
      "241 <Dense name=dense, built=True>\n",
      "(1, 224, 224, 1)\n"
     ]
    },
    {
     "ename": "KeyError",
     "evalue": "'Exception encountered when calling Functional.call().\\n\\n\\x1b[1m140438054550416\\x1b[0m\\n\\nArguments received by Functional.call():\\n  • inputs=tf.Tensor(shape=(1, 224, 224, 1), dtype=float32)\\n  • training=False\\n  • mask=None'",
     "output_type": "error",
     "traceback": [
      "\u001b[0;31m---------------------------------------------------------------------------\u001b[0m",
      "\u001b[0;31mKeyError\u001b[0m                                  Traceback (most recent call last)",
      "Cell \u001b[0;32mIn[91], line 38\u001b[0m\n\u001b[1;32m     36\u001b[0m arr \u001b[38;5;241m=\u001b[39m get_img_array(\u001b[38;5;124m\"\u001b[39m\u001b[38;5;124m../data/tests/00030786_003.png\u001b[39m\u001b[38;5;124m\"\u001b[39m,size)\n\u001b[1;32m     37\u001b[0m \u001b[38;5;28mprint\u001b[39m(arr\u001b[38;5;241m.\u001b[39mshape)\n\u001b[0;32m---> 38\u001b[0m features, results \u001b[38;5;241m=\u001b[39m \u001b[43mcam_model\u001b[49m\u001b[38;5;241;43m.\u001b[39;49m\u001b[43mpredict\u001b[49m\u001b[43m(\u001b[49m\u001b[43marr\u001b[49m\u001b[43m)\u001b[49m\n\u001b[1;32m     39\u001b[0m \u001b[38;5;66;03m# \u001b[39;00m\n",
      "File \u001b[0;32m~/projects/tf217/tf217/lib/python3.12/site-packages/keras/src/utils/traceback_utils.py:122\u001b[0m, in \u001b[0;36mfilter_traceback.<locals>.error_handler\u001b[0;34m(*args, **kwargs)\u001b[0m\n\u001b[1;32m    119\u001b[0m     filtered_tb \u001b[38;5;241m=\u001b[39m _process_traceback_frames(e\u001b[38;5;241m.\u001b[39m__traceback__)\n\u001b[1;32m    120\u001b[0m     \u001b[38;5;66;03m# To get the full stack trace, call:\u001b[39;00m\n\u001b[1;32m    121\u001b[0m     \u001b[38;5;66;03m# `keras.config.disable_traceback_filtering()`\u001b[39;00m\n\u001b[0;32m--> 122\u001b[0m     \u001b[38;5;28;01mraise\u001b[39;00m e\u001b[38;5;241m.\u001b[39mwith_traceback(filtered_tb) \u001b[38;5;28;01mfrom\u001b[39;00m\u001b[38;5;250m \u001b[39m\u001b[38;5;28;01mNone\u001b[39;00m\n\u001b[1;32m    123\u001b[0m \u001b[38;5;28;01mfinally\u001b[39;00m:\n\u001b[1;32m    124\u001b[0m     \u001b[38;5;28;01mdel\u001b[39;00m filtered_tb\n",
      "File \u001b[0;32m~/projects/tf217/tf217/lib/python3.12/site-packages/keras/src/ops/function.py:179\u001b[0m, in \u001b[0;36mFunction._run_through_graph\u001b[0;34m(self, inputs, operation_fn, call_fn)\u001b[0m\n\u001b[1;32m    177\u001b[0m output_tensors \u001b[38;5;241m=\u001b[39m []\n\u001b[1;32m    178\u001b[0m \u001b[38;5;28;01mfor\u001b[39;00m x \u001b[38;5;129;01min\u001b[39;00m \u001b[38;5;28mself\u001b[39m\u001b[38;5;241m.\u001b[39moutputs:\n\u001b[0;32m--> 179\u001b[0m     output_tensors\u001b[38;5;241m.\u001b[39mappend(\u001b[43mtensor_dict\u001b[49m\u001b[43m[\u001b[49m\u001b[38;5;28;43mid\u001b[39;49m\u001b[43m(\u001b[49m\u001b[43mx\u001b[49m\u001b[43m)\u001b[49m\u001b[43m]\u001b[49m)\n\u001b[1;32m    181\u001b[0m \u001b[38;5;28;01mreturn\u001b[39;00m tree\u001b[38;5;241m.\u001b[39mpack_sequence_as(\u001b[38;5;28mself\u001b[39m\u001b[38;5;241m.\u001b[39m_outputs_struct, output_tensors)\n",
      "\u001b[0;31mKeyError\u001b[0m: 'Exception encountered when calling Functional.call().\\n\\n\\x1b[1m140438054550416\\x1b[0m\\n\\nArguments received by Functional.call():\\n  • inputs=tf.Tensor(shape=(1, 224, 224, 1), dtype=float32)\\n  • training=False\\n  • mask=None'"
     ]
    }
   ],
   "source": [
    "# https://medium.com/data-science/multi-label-classification-and-class-activation-map-on-fashion-mnist-1454f09f5925\n",
    "import numpy as np\n",
    "import scipy as sp\n",
    "import matplotlib.pyplot as plt\n",
    "from tensorflow.keras.layers import Input\n",
    "\n",
    "from keras.models import Model\n",
    "from tensorflow.keras.layers import Conv2D\n",
    "# get the weights from the last layer\n",
    "gap_weights = model.layers[-1].get_weights()[0]\n",
    "# print(gap_weights)\n",
    "effnet: Model = model.get_layer(\"efficientnetb0\")\n",
    "# 2) Find its last Conv2D layer by scanning backwards\n",
    "last_conv = None\n",
    "for layer in reversed(effnet.layers):\n",
    "    if isinstance(layer, Conv2D):\n",
    "        last_conv = layer\n",
    "        break\n",
    "print(\"Using conv layer:\", last_conv.name)\n",
    "\n",
    "\n",
    "# cam_model = Model(inputs = model.input,\n",
    "#                   outputs =[(model.get_layer('efficientnetb0').get_layer('top_conv').output, model.layers[-1].output)]\n",
    "#                   )\n",
    "cam_model = Model(\n",
    "    inputs=model.input,\n",
    "    outputs=[ last_conv.output, model.output ]\n",
    ")\n",
    "print(cam_model.input.name)\n",
    "\n",
    "for i,layer in enumerate(cam_model.layers):\n",
    "    print(i,layer)\n",
    "\n",
    "# cam_model.summary()\n",
    "size = (224,224)\n",
    "arr = get_img_array(\"../data/tests/00030786_003.png\",size)\n",
    "print(arr.shape)\n",
    "features, results = cam_model.predict(arr)\n",
    "# "
   ]
  },
  {
   "cell_type": "code",
   "execution_count": 92,
   "id": "6c6b6160",
   "metadata": {},
   "outputs": [
    {
     "name": "stdout",
     "output_type": "stream",
     "text": [
      "Model Input shape:  (None, 224, 224, 1)\n",
      "BaseModel Input:  (None, None, None, 3)\n",
      "Cam_model shape (None, 224, 224, 1)\n"
     ]
    }
   ],
   "source": [
    "# model.summary()\n",
    "print(\"Model Input shape: \",model.input_shape)\n",
    "print(\"BaseModel Input: \", model.get_layer('efficientnetb0').input_shape)\n",
    "print(\"Cam_model shape\",cam_model.input_shape)"
   ]
  },
  {
   "cell_type": "code",
   "execution_count": null,
   "id": "6313ea29",
   "metadata": {},
   "outputs": [],
   "source": []
  }
 ],
 "metadata": {
  "kernelspec": {
   "display_name": "tf217",
   "language": "python",
   "name": "python3"
  },
  "language_info": {
   "codemirror_mode": {
    "name": "ipython",
    "version": 3
   },
   "file_extension": ".py",
   "mimetype": "text/x-python",
   "name": "python",
   "nbconvert_exporter": "python",
   "pygments_lexer": "ipython3",
   "version": "3.12.3"
  }
 },
 "nbformat": 4,
 "nbformat_minor": 5
}
